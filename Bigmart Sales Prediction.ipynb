{
 "cells": [
  {
   "cell_type": "markdown",
   "id": "62ed06bb-a3fd-4ef1-a255-f37df3619206",
   "metadata": {},
   "source": [
    "**Status**: Still needs work."
   ]
  },
  {
   "cell_type": "code",
   "execution_count": 1,
   "id": "fcdecc8f-6665-4974-8ace-2900ca69d711",
   "metadata": {},
   "outputs": [],
   "source": [
    "import pandas as pd\n",
    "import numpy as np\n",
    "import matplotlib.pyplot as plt\n",
    "import seaborn as sns"
   ]
  },
  {
   "cell_type": "code",
   "execution_count": 2,
   "id": "32475f67-e868-428e-8799-f127f286090f",
   "metadata": {},
   "outputs": [
    {
     "data": {
      "text/html": [
       "<div>\n",
       "<style scoped>\n",
       "    .dataframe tbody tr th:only-of-type {\n",
       "        vertical-align: middle;\n",
       "    }\n",
       "\n",
       "    .dataframe tbody tr th {\n",
       "        vertical-align: top;\n",
       "    }\n",
       "\n",
       "    .dataframe thead th {\n",
       "        text-align: right;\n",
       "    }\n",
       "</style>\n",
       "<table border=\"1\" class=\"dataframe\">\n",
       "  <thead>\n",
       "    <tr style=\"text-align: right;\">\n",
       "      <th></th>\n",
       "      <th>Item_Identifier</th>\n",
       "      <th>Item_Weight</th>\n",
       "      <th>Item_Fat_Content</th>\n",
       "      <th>Item_Visibility</th>\n",
       "      <th>Item_Type</th>\n",
       "      <th>Item_MRP</th>\n",
       "      <th>Outlet_Identifier</th>\n",
       "      <th>Outlet_Establishment_Year</th>\n",
       "      <th>Outlet_Size</th>\n",
       "      <th>Outlet_Location_Type</th>\n",
       "      <th>Outlet_Type</th>\n",
       "      <th>Item_Outlet_Sales</th>\n",
       "    </tr>\n",
       "  </thead>\n",
       "  <tbody>\n",
       "    <tr>\n",
       "      <th>0</th>\n",
       "      <td>FDA15</td>\n",
       "      <td>9.30</td>\n",
       "      <td>Low Fat</td>\n",
       "      <td>0.016047</td>\n",
       "      <td>Dairy</td>\n",
       "      <td>249.8092</td>\n",
       "      <td>OUT049</td>\n",
       "      <td>1999</td>\n",
       "      <td>Medium</td>\n",
       "      <td>Tier 1</td>\n",
       "      <td>Supermarket Type1</td>\n",
       "      <td>3735.1380</td>\n",
       "    </tr>\n",
       "    <tr>\n",
       "      <th>1</th>\n",
       "      <td>DRC01</td>\n",
       "      <td>5.92</td>\n",
       "      <td>Regular</td>\n",
       "      <td>0.019278</td>\n",
       "      <td>Soft Drinks</td>\n",
       "      <td>48.2692</td>\n",
       "      <td>OUT018</td>\n",
       "      <td>2009</td>\n",
       "      <td>Medium</td>\n",
       "      <td>Tier 3</td>\n",
       "      <td>Supermarket Type2</td>\n",
       "      <td>443.4228</td>\n",
       "    </tr>\n",
       "    <tr>\n",
       "      <th>2</th>\n",
       "      <td>FDN15</td>\n",
       "      <td>17.50</td>\n",
       "      <td>Low Fat</td>\n",
       "      <td>0.016760</td>\n",
       "      <td>Meat</td>\n",
       "      <td>141.6180</td>\n",
       "      <td>OUT049</td>\n",
       "      <td>1999</td>\n",
       "      <td>Medium</td>\n",
       "      <td>Tier 1</td>\n",
       "      <td>Supermarket Type1</td>\n",
       "      <td>2097.2700</td>\n",
       "    </tr>\n",
       "    <tr>\n",
       "      <th>3</th>\n",
       "      <td>FDX07</td>\n",
       "      <td>19.20</td>\n",
       "      <td>Regular</td>\n",
       "      <td>0.000000</td>\n",
       "      <td>Fruits and Vegetables</td>\n",
       "      <td>182.0950</td>\n",
       "      <td>OUT010</td>\n",
       "      <td>1998</td>\n",
       "      <td>NaN</td>\n",
       "      <td>Tier 3</td>\n",
       "      <td>Grocery Store</td>\n",
       "      <td>732.3800</td>\n",
       "    </tr>\n",
       "    <tr>\n",
       "      <th>4</th>\n",
       "      <td>NCD19</td>\n",
       "      <td>8.93</td>\n",
       "      <td>Low Fat</td>\n",
       "      <td>0.000000</td>\n",
       "      <td>Household</td>\n",
       "      <td>53.8614</td>\n",
       "      <td>OUT013</td>\n",
       "      <td>1987</td>\n",
       "      <td>High</td>\n",
       "      <td>Tier 3</td>\n",
       "      <td>Supermarket Type1</td>\n",
       "      <td>994.7052</td>\n",
       "    </tr>\n",
       "  </tbody>\n",
       "</table>\n",
       "</div>"
      ],
      "text/plain": [
       "  Item_Identifier  Item_Weight Item_Fat_Content  Item_Visibility  \\\n",
       "0           FDA15         9.30          Low Fat         0.016047   \n",
       "1           DRC01         5.92          Regular         0.019278   \n",
       "2           FDN15        17.50          Low Fat         0.016760   \n",
       "3           FDX07        19.20          Regular         0.000000   \n",
       "4           NCD19         8.93          Low Fat         0.000000   \n",
       "\n",
       "               Item_Type  Item_MRP Outlet_Identifier  \\\n",
       "0                  Dairy  249.8092            OUT049   \n",
       "1            Soft Drinks   48.2692            OUT018   \n",
       "2                   Meat  141.6180            OUT049   \n",
       "3  Fruits and Vegetables  182.0950            OUT010   \n",
       "4              Household   53.8614            OUT013   \n",
       "\n",
       "   Outlet_Establishment_Year Outlet_Size Outlet_Location_Type  \\\n",
       "0                       1999      Medium               Tier 1   \n",
       "1                       2009      Medium               Tier 3   \n",
       "2                       1999      Medium               Tier 1   \n",
       "3                       1998         NaN               Tier 3   \n",
       "4                       1987        High               Tier 3   \n",
       "\n",
       "         Outlet_Type  Item_Outlet_Sales  \n",
       "0  Supermarket Type1          3735.1380  \n",
       "1  Supermarket Type2           443.4228  \n",
       "2  Supermarket Type1          2097.2700  \n",
       "3      Grocery Store           732.3800  \n",
       "4  Supermarket Type1           994.7052  "
      ]
     },
     "execution_count": 2,
     "metadata": {},
     "output_type": "execute_result"
    }
   ],
   "source": [
    "data = pd.read_csv('Train.csv')\n",
    "df = data.copy()\n",
    "df.head()"
   ]
  },
  {
   "cell_type": "code",
   "execution_count": 3,
   "id": "437758b1-8866-459f-8338-3df961fec1ec",
   "metadata": {},
   "outputs": [
    {
     "data": {
      "text/plain": [
       "Item_Identifier              1559\n",
       "Item_Weight                   415\n",
       "Item_Fat_Content                5\n",
       "Item_Visibility              7880\n",
       "Item_Type                      16\n",
       "Item_MRP                     5938\n",
       "Outlet_Identifier              10\n",
       "Outlet_Establishment_Year       9\n",
       "Outlet_Size                     3\n",
       "Outlet_Location_Type            3\n",
       "Outlet_Type                     4\n",
       "Item_Outlet_Sales            3493\n",
       "dtype: int64"
      ]
     },
     "execution_count": 3,
     "metadata": {},
     "output_type": "execute_result"
    }
   ],
   "source": [
    "df.nunique()"
   ]
  },
  {
   "cell_type": "code",
   "execution_count": 4,
   "id": "94b3108f-769e-4dad-8744-aaa6daf2487c",
   "metadata": {},
   "outputs": [
    {
     "name": "stdout",
     "output_type": "stream",
     "text": [
      "<class 'pandas.core.frame.DataFrame'>\n",
      "RangeIndex: 8523 entries, 0 to 8522\n",
      "Data columns (total 12 columns):\n",
      " #   Column                     Non-Null Count  Dtype  \n",
      "---  ------                     --------------  -----  \n",
      " 0   Item_Identifier            8523 non-null   object \n",
      " 1   Item_Weight                7060 non-null   float64\n",
      " 2   Item_Fat_Content           8523 non-null   object \n",
      " 3   Item_Visibility            8523 non-null   float64\n",
      " 4   Item_Type                  8523 non-null   object \n",
      " 5   Item_MRP                   8523 non-null   float64\n",
      " 6   Outlet_Identifier          8523 non-null   object \n",
      " 7   Outlet_Establishment_Year  8523 non-null   int64  \n",
      " 8   Outlet_Size                6113 non-null   object \n",
      " 9   Outlet_Location_Type       8523 non-null   object \n",
      " 10  Outlet_Type                8523 non-null   object \n",
      " 11  Item_Outlet_Sales          8523 non-null   float64\n",
      "dtypes: float64(4), int64(1), object(7)\n",
      "memory usage: 799.2+ KB\n"
     ]
    }
   ],
   "source": [
    "df.info()"
   ]
  },
  {
   "cell_type": "code",
   "execution_count": 5,
   "id": "43dedeb6-5aa4-4d18-a1d5-143f124954bb",
   "metadata": {},
   "outputs": [
    {
     "data": {
      "text/plain": [
       "Item_Identifier                 0\n",
       "Item_Weight                  1463\n",
       "Item_Fat_Content                0\n",
       "Item_Visibility                 0\n",
       "Item_Type                       0\n",
       "Item_MRP                        0\n",
       "Outlet_Identifier               0\n",
       "Outlet_Establishment_Year       0\n",
       "Outlet_Size                  2410\n",
       "Outlet_Location_Type            0\n",
       "Outlet_Type                     0\n",
       "Item_Outlet_Sales               0\n",
       "dtype: int64"
      ]
     },
     "execution_count": 5,
     "metadata": {},
     "output_type": "execute_result"
    }
   ],
   "source": [
    "df.isnull().sum()"
   ]
  },
  {
   "cell_type": "markdown",
   "id": "16811927-7694-4a90-8444-3f58d9fc4bd2",
   "metadata": {},
   "source": [
    "# Separating object and numeric columns"
   ]
  },
  {
   "cell_type": "code",
   "execution_count": 6,
   "id": "18237d52-1893-4ddc-a1e4-a58b5cabe5cf",
   "metadata": {},
   "outputs": [
    {
     "data": {
      "text/plain": [
       "['Item_Identifier',\n",
       " 'Item_Fat_Content',\n",
       " 'Item_Type',\n",
       " 'Outlet_Identifier',\n",
       " 'Outlet_Size',\n",
       " 'Outlet_Location_Type',\n",
       " 'Outlet_Type']"
      ]
     },
     "execution_count": 6,
     "metadata": {},
     "output_type": "execute_result"
    }
   ],
   "source": [
    "cat_cols = list(df.dtypes[df.dtypes == 'object'].index)\n",
    "cat_cols"
   ]
  },
  {
   "cell_type": "markdown",
   "id": "3b0f9d4c-0e31-4eef-9cf0-a0c84ad24f0d",
   "metadata": {},
   "source": [
    "* Outlet and item identifier is useless. It's just unique ID's."
   ]
  },
  {
   "cell_type": "code",
   "execution_count": 7,
   "id": "aa3db8f6-2c5a-4929-92d9-8e94c2ff6bdf",
   "metadata": {},
   "outputs": [],
   "source": [
    "cat_cols.remove('Item_Identifier')\n",
    "cat_cols.remove('Outlet_Identifier')"
   ]
  },
  {
   "cell_type": "code",
   "execution_count": 8,
   "id": "64a41d07-5be9-4573-9f1b-59783b312135",
   "metadata": {},
   "outputs": [
    {
     "data": {
      "text/plain": [
       "['Item_Fat_Content',\n",
       " 'Item_Type',\n",
       " 'Outlet_Size',\n",
       " 'Outlet_Location_Type',\n",
       " 'Outlet_Type']"
      ]
     },
     "execution_count": 8,
     "metadata": {},
     "output_type": "execute_result"
    }
   ],
   "source": [
    "cat_cols"
   ]
  },
  {
   "cell_type": "code",
   "execution_count": 9,
   "id": "e0ba679c-1dc1-4d29-b26c-c9948de679ec",
   "metadata": {},
   "outputs": [
    {
     "name": "stdout",
     "output_type": "stream",
     "text": [
      "\n",
      "\n"
     ]
    },
    {
     "data": {
      "text/plain": [
       "Low Fat    5089\n",
       "Regular    2889\n",
       "LF          316\n",
       "reg         117\n",
       "low fat     112\n",
       "Name: Item_Fat_Content, dtype: int64"
      ]
     },
     "metadata": {},
     "output_type": "display_data"
    },
    {
     "name": "stdout",
     "output_type": "stream",
     "text": [
      "\n",
      "\n"
     ]
    },
    {
     "data": {
      "text/plain": [
       "Fruits and Vegetables    1232\n",
       "Snack Foods              1200\n",
       "Household                 910\n",
       "Frozen Foods              856\n",
       "Dairy                     682\n",
       "Canned                    649\n",
       "Baking Goods              648\n",
       "Health and Hygiene        520\n",
       "Soft Drinks               445\n",
       "Meat                      425\n",
       "Breads                    251\n",
       "Hard Drinks               214\n",
       "Others                    169\n",
       "Starchy Foods             148\n",
       "Breakfast                 110\n",
       "Seafood                    64\n",
       "Name: Item_Type, dtype: int64"
      ]
     },
     "metadata": {},
     "output_type": "display_data"
    },
    {
     "name": "stdout",
     "output_type": "stream",
     "text": [
      "\n",
      "\n"
     ]
    },
    {
     "data": {
      "text/plain": [
       "Medium    2793\n",
       "Small     2388\n",
       "High       932\n",
       "Name: Outlet_Size, dtype: int64"
      ]
     },
     "metadata": {},
     "output_type": "display_data"
    },
    {
     "name": "stdout",
     "output_type": "stream",
     "text": [
      "\n",
      "\n"
     ]
    },
    {
     "data": {
      "text/plain": [
       "Tier 3    3350\n",
       "Tier 2    2785\n",
       "Tier 1    2388\n",
       "Name: Outlet_Location_Type, dtype: int64"
      ]
     },
     "metadata": {},
     "output_type": "display_data"
    },
    {
     "name": "stdout",
     "output_type": "stream",
     "text": [
      "\n",
      "\n"
     ]
    },
    {
     "data": {
      "text/plain": [
       "Supermarket Type1    5577\n",
       "Grocery Store        1083\n",
       "Supermarket Type3     935\n",
       "Supermarket Type2     928\n",
       "Name: Outlet_Type, dtype: int64"
      ]
     },
     "metadata": {},
     "output_type": "display_data"
    }
   ],
   "source": [
    "for col in cat_cols:\n",
    "    print('\\n')\n",
    "    display(df.loc[:, col].value_counts())"
   ]
  },
  {
   "cell_type": "markdown",
   "id": "77590381-9371-4d07-8433-a033760b6f36",
   "metadata": {},
   "source": [
    "* Item fat content column has categories that can be merged."
   ]
  },
  {
   "cell_type": "code",
   "execution_count": 10,
   "id": "cbb35e94-eb37-485e-84d7-78edb8e733e7",
   "metadata": {},
   "outputs": [],
   "source": [
    "# df.loc[:, cat_cols] = df.loc[:, cat_cols].astype('category')"
   ]
  },
  {
   "cell_type": "code",
   "execution_count": 11,
   "id": "224fe50e-c245-4c48-898e-f8ef748abcad",
   "metadata": {},
   "outputs": [],
   "source": [
    "# df.dtypes"
   ]
  },
  {
   "cell_type": "markdown",
   "id": "86fb390f-36e8-4219-94e2-6dc4bb8343ee",
   "metadata": {},
   "source": [
    "## Filling out missing values in item_weights"
   ]
  },
  {
   "cell_type": "code",
   "execution_count": 12,
   "id": "5352d55b-75a4-402a-b705-8fbe5d79b107",
   "metadata": {},
   "outputs": [
    {
     "data": {
      "text/plain": [
       "0        9.300\n",
       "1        5.920\n",
       "2       17.500\n",
       "3       19.200\n",
       "4        8.930\n",
       "         ...  \n",
       "8518     6.865\n",
       "8519     8.380\n",
       "8520    10.600\n",
       "8521     7.210\n",
       "8522    14.800\n",
       "Name: Item_Weight, Length: 8523, dtype: float64"
      ]
     },
     "execution_count": 12,
     "metadata": {},
     "output_type": "execute_result"
    }
   ],
   "source": [
    "df.Item_Weight"
   ]
  },
  {
   "cell_type": "code",
   "execution_count": 13,
   "id": "f3c6772e-0e6a-4c54-a7af-bfc2060fa38b",
   "metadata": {},
   "outputs": [
    {
     "data": {
      "text/html": [
       "<div>\n",
       "<style scoped>\n",
       "    .dataframe tbody tr th:only-of-type {\n",
       "        vertical-align: middle;\n",
       "    }\n",
       "\n",
       "    .dataframe tbody tr th {\n",
       "        vertical-align: top;\n",
       "    }\n",
       "\n",
       "    .dataframe thead th {\n",
       "        text-align: right;\n",
       "    }\n",
       "</style>\n",
       "<table border=\"1\" class=\"dataframe\">\n",
       "  <thead>\n",
       "    <tr style=\"text-align: right;\">\n",
       "      <th></th>\n",
       "      <th>Item_Weight</th>\n",
       "    </tr>\n",
       "    <tr>\n",
       "      <th>Item_Identifier</th>\n",
       "      <th></th>\n",
       "    </tr>\n",
       "  </thead>\n",
       "  <tbody>\n",
       "    <tr>\n",
       "      <th>DRA12</th>\n",
       "      <td>11.600</td>\n",
       "    </tr>\n",
       "    <tr>\n",
       "      <th>DRA24</th>\n",
       "      <td>19.350</td>\n",
       "    </tr>\n",
       "    <tr>\n",
       "      <th>DRA59</th>\n",
       "      <td>8.270</td>\n",
       "    </tr>\n",
       "    <tr>\n",
       "      <th>DRB01</th>\n",
       "      <td>7.390</td>\n",
       "    </tr>\n",
       "    <tr>\n",
       "      <th>DRB13</th>\n",
       "      <td>6.115</td>\n",
       "    </tr>\n",
       "    <tr>\n",
       "      <th>...</th>\n",
       "      <td>...</td>\n",
       "    </tr>\n",
       "    <tr>\n",
       "      <th>NCZ30</th>\n",
       "      <td>6.590</td>\n",
       "    </tr>\n",
       "    <tr>\n",
       "      <th>NCZ41</th>\n",
       "      <td>19.850</td>\n",
       "    </tr>\n",
       "    <tr>\n",
       "      <th>NCZ42</th>\n",
       "      <td>10.500</td>\n",
       "    </tr>\n",
       "    <tr>\n",
       "      <th>NCZ53</th>\n",
       "      <td>9.600</td>\n",
       "    </tr>\n",
       "    <tr>\n",
       "      <th>NCZ54</th>\n",
       "      <td>14.650</td>\n",
       "    </tr>\n",
       "  </tbody>\n",
       "</table>\n",
       "<p>1555 rows × 1 columns</p>\n",
       "</div>"
      ],
      "text/plain": [
       "                 Item_Weight\n",
       "Item_Identifier             \n",
       "DRA12                 11.600\n",
       "DRA24                 19.350\n",
       "DRA59                  8.270\n",
       "DRB01                  7.390\n",
       "DRB13                  6.115\n",
       "...                      ...\n",
       "NCZ30                  6.590\n",
       "NCZ41                 19.850\n",
       "NCZ42                 10.500\n",
       "NCZ53                  9.600\n",
       "NCZ54                 14.650\n",
       "\n",
       "[1555 rows x 1 columns]"
      ]
     },
     "execution_count": 13,
     "metadata": {},
     "output_type": "execute_result"
    }
   ],
   "source": [
    "item_weight_median = df.pivot_table(index = 'Item_Identifier', values = 'Item_Weight', aggfunc = 'median')\n",
    "item_weight_median"
   ]
  },
  {
   "cell_type": "markdown",
   "id": "03a2acb2-be02-498b-b79e-1ef501c6606b",
   "metadata": {},
   "source": [
    "Replace the NaN values in Item_Weight column with its mean in the Item_Identifier column"
   ]
  },
  {
   "cell_type": "code",
   "execution_count": 14,
   "id": "f651c3d2-f02b-4b2c-86e0-b6a9b05c9066",
   "metadata": {},
   "outputs": [],
   "source": [
    "for i in list(df.loc[df['Item_Weight'].isnull() == True].index):\n",
    "    identifier = df.loc[i, 'Item_Identifier']\n",
    "    try:\n",
    "        df.loc[i, 'Item_Weight'] = int(item_weight_median.loc[identifier])\n",
    "    except:\n",
    "        df.loc[i, 'Item_Weight'] = int(df.loc[:, 'Item_Weight'].mean())"
   ]
  },
  {
   "cell_type": "code",
   "execution_count": 15,
   "id": "4a87f445-524c-45cf-bf3d-85bad92b4c3c",
   "metadata": {},
   "outputs": [
    {
     "data": {
      "text/plain": [
       "0"
      ]
     },
     "execution_count": 15,
     "metadata": {},
     "output_type": "execute_result"
    }
   ],
   "source": [
    "df.Item_Weight.isnull().sum()"
   ]
  },
  {
   "cell_type": "markdown",
   "id": "73c40427-1702-47b9-9016-5c411f6eef84",
   "metadata": {},
   "source": [
    "## Outlet Size and Outlet Type"
   ]
  },
  {
   "cell_type": "code",
   "execution_count": 16,
   "id": "c7a5c0ea-357e-4494-b8de-626ae14dcd35",
   "metadata": {},
   "outputs": [
    {
     "data": {
      "text/plain": [
       "Outlet_Size    3\n",
       "Outlet_Type    4\n",
       "dtype: int64"
      ]
     },
     "execution_count": 16,
     "metadata": {},
     "output_type": "execute_result"
    }
   ],
   "source": [
    "df.loc[:, ['Outlet_Size', 'Outlet_Type']].nunique()"
   ]
  },
  {
   "cell_type": "code",
   "execution_count": 17,
   "id": "0a2ee8c2-58a8-4afc-b92c-f926cb367749",
   "metadata": {},
   "outputs": [
    {
     "data": {
      "text/plain": [
       "Outlet_Size    2410\n",
       "Outlet_Type       0\n",
       "dtype: int64"
      ]
     },
     "execution_count": 17,
     "metadata": {},
     "output_type": "execute_result"
    }
   ],
   "source": [
    "df.loc[:, ['Outlet_Size', 'Outlet_Type']].isnull().sum()"
   ]
  },
  {
   "cell_type": "markdown",
   "id": "7053145b-1ec4-414a-add7-abb70aa039ed",
   "metadata": {},
   "source": [
    "The null values on the Outlet Size column will be replaced by the mode of their respective outlet size. "
   ]
  },
  {
   "cell_type": "code",
   "execution_count": 18,
   "id": "c00d07e0-79ae-455c-ba96-b19d0e0280f7",
   "metadata": {},
   "outputs": [
    {
     "data": {
      "text/plain": [
       "(array(['Medium', nan, 'High', 'Small'], dtype=object),\n",
       " array(['Supermarket Type1', 'Supermarket Type2', 'Grocery Store',\n",
       "        'Supermarket Type3'], dtype=object))"
      ]
     },
     "execution_count": 18,
     "metadata": {},
     "output_type": "execute_result"
    }
   ],
   "source": [
    "df.loc[:, 'Outlet_Size'].unique(), df.loc[:, 'Outlet_Type'].unique()"
   ]
  },
  {
   "cell_type": "code",
   "execution_count": 19,
   "id": "923d6fed-4950-4dc3-b468-6ddf04756a62",
   "metadata": {},
   "outputs": [
    {
     "data": {
      "text/html": [
       "<div>\n",
       "<style scoped>\n",
       "    .dataframe tbody tr th:only-of-type {\n",
       "        vertical-align: middle;\n",
       "    }\n",
       "\n",
       "    .dataframe tbody tr th {\n",
       "        vertical-align: top;\n",
       "    }\n",
       "\n",
       "    .dataframe thead th {\n",
       "        text-align: right;\n",
       "    }\n",
       "</style>\n",
       "<table border=\"1\" class=\"dataframe\">\n",
       "  <thead>\n",
       "    <tr style=\"text-align: right;\">\n",
       "      <th></th>\n",
       "      <th>Outlet_Size</th>\n",
       "    </tr>\n",
       "    <tr>\n",
       "      <th>Outlet_Type</th>\n",
       "      <th></th>\n",
       "    </tr>\n",
       "  </thead>\n",
       "  <tbody>\n",
       "    <tr>\n",
       "      <th>Grocery Store</th>\n",
       "      <td>Small</td>\n",
       "    </tr>\n",
       "    <tr>\n",
       "      <th>Supermarket Type1</th>\n",
       "      <td>Small</td>\n",
       "    </tr>\n",
       "    <tr>\n",
       "      <th>Supermarket Type2</th>\n",
       "      <td>Medium</td>\n",
       "    </tr>\n",
       "    <tr>\n",
       "      <th>Supermarket Type3</th>\n",
       "      <td>Medium</td>\n",
       "    </tr>\n",
       "  </tbody>\n",
       "</table>\n",
       "</div>"
      ],
      "text/plain": [
       "                  Outlet_Size\n",
       "Outlet_Type                  \n",
       "Grocery Store           Small\n",
       "Supermarket Type1       Small\n",
       "Supermarket Type2      Medium\n",
       "Supermarket Type3      Medium"
      ]
     },
     "execution_count": 19,
     "metadata": {},
     "output_type": "execute_result"
    }
   ],
   "source": [
    "outlet_size_pivot = df.pivot_table(index = 'Outlet_Type', \n",
    "                                  aggfunc = (lambda x: x.mode()[0]),\n",
    "                                  values = 'Outlet_Size')\n",
    "outlet_size_pivot"
   ]
  },
  {
   "cell_type": "markdown",
   "id": "0fe1694e-d23d-4878-9201-7b3a230addc9",
   "metadata": {},
   "source": [
    "1. Find rows that have missing values\n",
    "2. For each row i\n",
    "    1. Find its corresponding outlet type and assign it to outlet_type variable\n",
    "    2. Find the value of index: outlet_type from the pivot table\n",
    "    3. Replace the value at i<sup>th</sup> index with the Mode value from pivot table"
   ]
  },
  {
   "cell_type": "code",
   "execution_count": 20,
   "id": "c0316783-26ad-4782-b395-0e2432133517",
   "metadata": {
    "tags": []
   },
   "outputs": [],
   "source": [
    "for row in list(df.loc[df['Outlet_Size'].isnull() == True].index):\n",
    "    identifier = df.loc[row, 'Outlet_Type']\n",
    "    df.loc[row, 'Outlet_Size'] = str(outlet_size_pivot.loc[identifier].values[0])"
   ]
  },
  {
   "cell_type": "code",
   "execution_count": 21,
   "id": "df7115f6-6e60-4aa7-aba0-cb6f7c7b0d10",
   "metadata": {},
   "outputs": [
    {
     "data": {
      "text/plain": [
       "0"
      ]
     },
     "execution_count": 21,
     "metadata": {},
     "output_type": "execute_result"
    }
   ],
   "source": [
    "df.Outlet_Size.isnull().sum()"
   ]
  },
  {
   "cell_type": "markdown",
   "id": "9a89b57b-6a73-4d26-9939-6039b11e0061",
   "metadata": {},
   "source": [
    "## Item invisibility column"
   ]
  },
  {
   "cell_type": "code",
   "execution_count": 22,
   "id": "21864805-1897-4bf4-bc3f-3cf3951c822c",
   "metadata": {},
   "outputs": [
    {
     "data": {
      "text/plain": [
       "Index(['Item_Identifier', 'Item_Weight', 'Item_Fat_Content', 'Item_Visibility',\n",
       "       'Item_Type', 'Item_MRP', 'Outlet_Identifier',\n",
       "       'Outlet_Establishment_Year', 'Outlet_Size', 'Outlet_Location_Type',\n",
       "       'Outlet_Type', 'Item_Outlet_Sales'],\n",
       "      dtype='object')"
      ]
     },
     "execution_count": 22,
     "metadata": {},
     "output_type": "execute_result"
    }
   ],
   "source": [
    "df.columns"
   ]
  },
  {
   "cell_type": "code",
   "execution_count": 23,
   "id": "21b5e371-1316-4508-a27c-64f0b8eb31bd",
   "metadata": {},
   "outputs": [
    {
     "data": {
      "text/plain": [
       "0"
      ]
     },
     "execution_count": 23,
     "metadata": {},
     "output_type": "execute_result"
    }
   ],
   "source": [
    "df.Item_Visibility.isnull().sum()"
   ]
  },
  {
   "cell_type": "code",
   "execution_count": 24,
   "id": "1004ea50-b51b-4ee7-8574-9a845ba702b8",
   "metadata": {},
   "outputs": [
    {
     "data": {
      "text/plain": [
       "count    8523.000000\n",
       "mean        0.066132\n",
       "std         0.051598\n",
       "min         0.000000\n",
       "25%         0.026989\n",
       "50%         0.053931\n",
       "75%         0.094585\n",
       "max         0.328391\n",
       "Name: Item_Visibility, dtype: float64"
      ]
     },
     "execution_count": 24,
     "metadata": {},
     "output_type": "execute_result"
    }
   ],
   "source": [
    "df.Item_Visibility.describe()"
   ]
  },
  {
   "cell_type": "markdown",
   "id": "31e5075e-9169-4d81-a55b-348e530a7107",
   "metadata": {},
   "source": [
    "We will replace the 0's with median of the column"
   ]
  },
  {
   "cell_type": "code",
   "execution_count": 25,
   "id": "40924080-b249-4335-b9e7-d02c4041712d",
   "metadata": {},
   "outputs": [
    {
     "data": {
      "text/plain": [
       "0.057792343"
      ]
     },
     "execution_count": 25,
     "metadata": {},
     "output_type": "execute_result"
    }
   ],
   "source": [
    "median_item_visibility = df.loc[df['Item_Visibility'] != 0].loc[:, 'Item_Visibility'].median()\n",
    "median_item_visibility"
   ]
  },
  {
   "cell_type": "code",
   "execution_count": 26,
   "id": "13285e19-4e60-4fae-9207-fffbd43930d1",
   "metadata": {},
   "outputs": [],
   "source": [
    "df.loc[:, 'Item_Visibility'].replace(0, median_item_visibility, inplace = True)"
   ]
  },
  {
   "cell_type": "code",
   "execution_count": 27,
   "id": "6f27f85b-e054-44e9-ba6d-997d17db0393",
   "metadata": {},
   "outputs": [
    {
     "data": {
      "text/plain": [
       "0.003574698"
      ]
     },
     "execution_count": 27,
     "metadata": {},
     "output_type": "execute_result"
    }
   ],
   "source": [
    "df.Item_Visibility.min()"
   ]
  },
  {
   "cell_type": "markdown",
   "id": "1b394b05-4515-4384-b04a-5fab6635920e",
   "metadata": {},
   "source": [
    "## Item Fat Content column"
   ]
  },
  {
   "cell_type": "code",
   "execution_count": 28,
   "id": "0b96bb78-0f95-4c77-bce3-4c8c910ebc5c",
   "metadata": {},
   "outputs": [
    {
     "data": {
      "text/plain": [
       "5"
      ]
     },
     "execution_count": 28,
     "metadata": {},
     "output_type": "execute_result"
    }
   ],
   "source": [
    "df.loc[:, 'Item_Fat_Content'].nunique()"
   ]
  },
  {
   "cell_type": "code",
   "execution_count": 29,
   "id": "ca55d17c-4a97-44d5-988f-134f2feba46e",
   "metadata": {},
   "outputs": [
    {
     "data": {
      "text/plain": [
       "Low Fat    5517\n",
       "Regular    3006\n",
       "Name: Item_Fat_Content, dtype: int64"
      ]
     },
     "execution_count": 29,
     "metadata": {},
     "output_type": "execute_result"
    }
   ],
   "source": [
    "df.loc[:, 'Item_Fat_Content'] = df.loc[:, 'Item_Fat_Content'].replace({'LF':'Low Fat',\n",
    "                                                                       'reg':'Regular',\n",
    "                                                                       'low fat':'Low Fat'})\n",
    "df.loc[:, 'Item_Fat_Content'].value_counts()"
   ]
  },
  {
   "cell_type": "markdown",
   "id": "39178019-d3a1-4450-9437-b2e64f8e6fce",
   "metadata": {},
   "source": [
    "# Adding new features"
   ]
  },
  {
   "cell_type": "markdown",
   "id": "e390d0b1-6493-42d3-a7c3-38c73a765393",
   "metadata": {},
   "source": [
    "## New item column \n",
    "Only captures the type of food(drinks/consumable/non-consumable)"
   ]
  },
  {
   "cell_type": "code",
   "execution_count": 30,
   "id": "ef49be87-441e-4dd7-8474-609eb97550b4",
   "metadata": {},
   "outputs": [
    {
     "data": {
      "text/plain": [
       "Index(['Item_Identifier', 'Item_Weight', 'Item_Fat_Content', 'Item_Visibility',\n",
       "       'Item_Type', 'Item_MRP', 'Outlet_Identifier',\n",
       "       'Outlet_Establishment_Year', 'Outlet_Size', 'Outlet_Location_Type',\n",
       "       'Outlet_Type', 'Item_Outlet_Sales'],\n",
       "      dtype='object')"
      ]
     },
     "execution_count": 30,
     "metadata": {},
     "output_type": "execute_result"
    }
   ],
   "source": [
    "df.columns"
   ]
  },
  {
   "cell_type": "code",
   "execution_count": 31,
   "id": "1eeae236-4a5c-40e2-ad9e-e98cb534c6d5",
   "metadata": {},
   "outputs": [
    {
     "data": {
      "text/plain": [
       "array(['FDA15', 'DRC01', 'FDN15', ..., 'NCF55', 'NCW30', 'NCW05'],\n",
       "      dtype=object)"
      ]
     },
     "execution_count": 31,
     "metadata": {},
     "output_type": "execute_result"
    }
   ],
   "source": [
    "df.Item_Identifier.unique()"
   ]
  },
  {
   "cell_type": "code",
   "execution_count": 32,
   "id": "02a45ff6-5690-4bc4-83f1-b77a5cbf1c47",
   "metadata": {},
   "outputs": [
    {
     "data": {
      "text/plain": [
       "0       FD\n",
       "1       DR\n",
       "2       FD\n",
       "3       FD\n",
       "4       NC\n",
       "        ..\n",
       "8518    FD\n",
       "8519    FD\n",
       "8520    NC\n",
       "8521    FD\n",
       "8522    DR\n",
       "Name: New_Item_Type, Length: 8523, dtype: object"
      ]
     },
     "execution_count": 32,
     "metadata": {},
     "output_type": "execute_result"
    }
   ],
   "source": [
    "df['New_Item_Type'] = df.loc[:, 'Item_Identifier'].apply(lambda x: x[:2])\n",
    "df.loc[:, 'New_Item_Type']"
   ]
  },
  {
   "cell_type": "code",
   "execution_count": 33,
   "id": "c8850bdd-804d-4d12-bd46-e96f126928e8",
   "metadata": {},
   "outputs": [
    {
     "data": {
      "text/plain": [
       "array(['FD', 'DR', 'NC'], dtype=object)"
      ]
     },
     "execution_count": 33,
     "metadata": {},
     "output_type": "execute_result"
    }
   ],
   "source": [
    "df.loc[:, 'New_Item_Type'].unique()"
   ]
  },
  {
   "cell_type": "code",
   "execution_count": 34,
   "id": "824b4092-d71f-4121-b9e3-7269cbdaa40c",
   "metadata": {},
   "outputs": [
    {
     "data": {
      "text/plain": [
       "Food              6125\n",
       "Non-Consumable    1599\n",
       "Drinks             799\n",
       "Name: New_Item_Type, dtype: int64"
      ]
     },
     "execution_count": 34,
     "metadata": {},
     "output_type": "execute_result"
    }
   ],
   "source": [
    "df.loc[:, 'New_Item_Type'] = df.loc[:, 'New_Item_Type'].map({'FD':'Food', 'NC':'Non-Consumable', 'DR':'Drinks'})\n",
    "df.loc[:, 'New_Item_Type'].value_counts()"
   ]
  },
  {
   "cell_type": "markdown",
   "id": "31254319-2f16-4df9-b79c-ca3e5946def3",
   "metadata": {},
   "source": [
    "## Change in non-consumable item types in Item_Fat_Content \n",
    "Replacing those values with 'non-edible'"
   ]
  },
  {
   "cell_type": "code",
   "execution_count": 35,
   "id": "b6386c96-714e-49b3-88ef-f4f5cf3481f3",
   "metadata": {},
   "outputs": [
    {
     "data": {
      "text/plain": [
       "4       Low Fat\n",
       "16      Low Fat\n",
       "22      Low Fat\n",
       "25      Low Fat\n",
       "31      Low Fat\n",
       "         ...   \n",
       "8500    Low Fat\n",
       "8502    Low Fat\n",
       "8504    Low Fat\n",
       "8516    Low Fat\n",
       "8520    Low Fat\n",
       "Name: Item_Fat_Content, Length: 1599, dtype: object"
      ]
     },
     "execution_count": 35,
     "metadata": {},
     "output_type": "execute_result"
    }
   ],
   "source": [
    "df.loc[df.loc[:, 'New_Item_Type']=='Non-Consumable', 'Item_Fat_Content']"
   ]
  },
  {
   "cell_type": "code",
   "execution_count": 36,
   "id": "3f6a4cad-f06f-46de-a26a-b269c27148b9",
   "metadata": {},
   "outputs": [
    {
     "data": {
      "text/plain": [
       "Low Fat       3918\n",
       "Regular       3006\n",
       "Non-Edible    1599\n",
       "Name: Item_Fat_Content, dtype: int64"
      ]
     },
     "execution_count": 36,
     "metadata": {},
     "output_type": "execute_result"
    }
   ],
   "source": [
    "df.loc[df.loc[:, 'New_Item_Type']=='Non-Consumable', 'Item_Fat_Content'] = 'Non-Edible'\n",
    "\n",
    "df.loc[:, 'Item_Fat_Content'].value_counts()"
   ]
  },
  {
   "cell_type": "markdown",
   "id": "fcc1296e-c3aa-4fb2-89b0-ead83e712137",
   "metadata": {
    "tags": []
   },
   "source": [
    "## Age of outlet\n",
    "How many years has it been since the outlet is present"
   ]
  },
  {
   "cell_type": "code",
   "execution_count": 37,
   "id": "970c6115-8786-41bb-8fcb-1277ca9cbe06",
   "metadata": {},
   "outputs": [],
   "source": [
    "df['Outlet_Years'] = 2022 - df['Outlet_Establishment_Year']"
   ]
  },
  {
   "cell_type": "code",
   "execution_count": 38,
   "id": "2462ac25-96d2-4fa1-9514-a33d5bca4f9b",
   "metadata": {},
   "outputs": [
    {
     "data": {
      "text/html": [
       "<div>\n",
       "<style scoped>\n",
       "    .dataframe tbody tr th:only-of-type {\n",
       "        vertical-align: middle;\n",
       "    }\n",
       "\n",
       "    .dataframe tbody tr th {\n",
       "        vertical-align: top;\n",
       "    }\n",
       "\n",
       "    .dataframe thead th {\n",
       "        text-align: right;\n",
       "    }\n",
       "</style>\n",
       "<table border=\"1\" class=\"dataframe\">\n",
       "  <thead>\n",
       "    <tr style=\"text-align: right;\">\n",
       "      <th></th>\n",
       "      <th>Item_Identifier</th>\n",
       "      <th>Item_Weight</th>\n",
       "      <th>Item_Fat_Content</th>\n",
       "      <th>Item_Visibility</th>\n",
       "      <th>Item_Type</th>\n",
       "      <th>Item_MRP</th>\n",
       "      <th>Outlet_Identifier</th>\n",
       "      <th>Outlet_Establishment_Year</th>\n",
       "      <th>Outlet_Size</th>\n",
       "      <th>Outlet_Location_Type</th>\n",
       "      <th>Outlet_Type</th>\n",
       "      <th>Item_Outlet_Sales</th>\n",
       "      <th>New_Item_Type</th>\n",
       "      <th>Outlet_Years</th>\n",
       "    </tr>\n",
       "  </thead>\n",
       "  <tbody>\n",
       "    <tr>\n",
       "      <th>0</th>\n",
       "      <td>FDA15</td>\n",
       "      <td>9.30</td>\n",
       "      <td>Low Fat</td>\n",
       "      <td>0.016047</td>\n",
       "      <td>Dairy</td>\n",
       "      <td>249.8092</td>\n",
       "      <td>OUT049</td>\n",
       "      <td>1999</td>\n",
       "      <td>Medium</td>\n",
       "      <td>Tier 1</td>\n",
       "      <td>Supermarket Type1</td>\n",
       "      <td>3735.1380</td>\n",
       "      <td>Food</td>\n",
       "      <td>23</td>\n",
       "    </tr>\n",
       "    <tr>\n",
       "      <th>1</th>\n",
       "      <td>DRC01</td>\n",
       "      <td>5.92</td>\n",
       "      <td>Regular</td>\n",
       "      <td>0.019278</td>\n",
       "      <td>Soft Drinks</td>\n",
       "      <td>48.2692</td>\n",
       "      <td>OUT018</td>\n",
       "      <td>2009</td>\n",
       "      <td>Medium</td>\n",
       "      <td>Tier 3</td>\n",
       "      <td>Supermarket Type2</td>\n",
       "      <td>443.4228</td>\n",
       "      <td>Drinks</td>\n",
       "      <td>13</td>\n",
       "    </tr>\n",
       "    <tr>\n",
       "      <th>2</th>\n",
       "      <td>FDN15</td>\n",
       "      <td>17.50</td>\n",
       "      <td>Low Fat</td>\n",
       "      <td>0.016760</td>\n",
       "      <td>Meat</td>\n",
       "      <td>141.6180</td>\n",
       "      <td>OUT049</td>\n",
       "      <td>1999</td>\n",
       "      <td>Medium</td>\n",
       "      <td>Tier 1</td>\n",
       "      <td>Supermarket Type1</td>\n",
       "      <td>2097.2700</td>\n",
       "      <td>Food</td>\n",
       "      <td>23</td>\n",
       "    </tr>\n",
       "    <tr>\n",
       "      <th>3</th>\n",
       "      <td>FDX07</td>\n",
       "      <td>19.20</td>\n",
       "      <td>Regular</td>\n",
       "      <td>0.057792</td>\n",
       "      <td>Fruits and Vegetables</td>\n",
       "      <td>182.0950</td>\n",
       "      <td>OUT010</td>\n",
       "      <td>1998</td>\n",
       "      <td>Small</td>\n",
       "      <td>Tier 3</td>\n",
       "      <td>Grocery Store</td>\n",
       "      <td>732.3800</td>\n",
       "      <td>Food</td>\n",
       "      <td>24</td>\n",
       "    </tr>\n",
       "    <tr>\n",
       "      <th>4</th>\n",
       "      <td>NCD19</td>\n",
       "      <td>8.93</td>\n",
       "      <td>Non-Edible</td>\n",
       "      <td>0.057792</td>\n",
       "      <td>Household</td>\n",
       "      <td>53.8614</td>\n",
       "      <td>OUT013</td>\n",
       "      <td>1987</td>\n",
       "      <td>High</td>\n",
       "      <td>Tier 3</td>\n",
       "      <td>Supermarket Type1</td>\n",
       "      <td>994.7052</td>\n",
       "      <td>Non-Consumable</td>\n",
       "      <td>35</td>\n",
       "    </tr>\n",
       "  </tbody>\n",
       "</table>\n",
       "</div>"
      ],
      "text/plain": [
       "  Item_Identifier  Item_Weight Item_Fat_Content  Item_Visibility  \\\n",
       "0           FDA15         9.30          Low Fat         0.016047   \n",
       "1           DRC01         5.92          Regular         0.019278   \n",
       "2           FDN15        17.50          Low Fat         0.016760   \n",
       "3           FDX07        19.20          Regular         0.057792   \n",
       "4           NCD19         8.93       Non-Edible         0.057792   \n",
       "\n",
       "               Item_Type  Item_MRP Outlet_Identifier  \\\n",
       "0                  Dairy  249.8092            OUT049   \n",
       "1            Soft Drinks   48.2692            OUT018   \n",
       "2                   Meat  141.6180            OUT049   \n",
       "3  Fruits and Vegetables  182.0950            OUT010   \n",
       "4              Household   53.8614            OUT013   \n",
       "\n",
       "   Outlet_Establishment_Year Outlet_Size Outlet_Location_Type  \\\n",
       "0                       1999      Medium               Tier 1   \n",
       "1                       2009      Medium               Tier 3   \n",
       "2                       1999      Medium               Tier 1   \n",
       "3                       1998       Small               Tier 3   \n",
       "4                       1987        High               Tier 3   \n",
       "\n",
       "         Outlet_Type  Item_Outlet_Sales   New_Item_Type  Outlet_Years  \n",
       "0  Supermarket Type1          3735.1380            Food            23  \n",
       "1  Supermarket Type2           443.4228          Drinks            13  \n",
       "2  Supermarket Type1          2097.2700            Food            23  \n",
       "3      Grocery Store           732.3800            Food            24  \n",
       "4  Supermarket Type1           994.7052  Non-Consumable            35  "
      ]
     },
     "execution_count": 38,
     "metadata": {},
     "output_type": "execute_result"
    }
   ],
   "source": [
    "df.head()"
   ]
  },
  {
   "cell_type": "markdown",
   "id": "62bb63cd-0e9a-43b3-b340-13f2ea6302df",
   "metadata": {},
   "source": [
    "# EDA"
   ]
  },
  {
   "cell_type": "markdown",
   "id": "2cd88842-d7d8-4746-b7de-d06be29d72b6",
   "metadata": {},
   "source": [
    "## Exploring the numeric columns"
   ]
  },
  {
   "cell_type": "code",
   "execution_count": 39,
   "id": "1bfa185a-4929-4f42-a951-851f5f8bb52d",
   "metadata": {},
   "outputs": [
    {
     "data": {
      "text/plain": [
       "Item_Weight          float64\n",
       "Item_Visibility      float64\n",
       "Item_MRP             float64\n",
       "Item_Outlet_Sales    float64\n",
       "dtype: object"
      ]
     },
     "execution_count": 39,
     "metadata": {},
     "output_type": "execute_result"
    }
   ],
   "source": [
    "data.dtypes[data.dtypes == np.number]"
   ]
  },
  {
   "cell_type": "code",
   "execution_count": 40,
   "id": "762266e5-1919-40b8-875c-587af20f0816",
   "metadata": {},
   "outputs": [
    {
     "data": {
      "image/png": "[encoded data removed]",
      "text/plain": [
       "<Figure size 1080x1080 with 4 Axes>"
      ]
     },
     "metadata": {
      "needs_background": "light"
     },
     "output_type": "display_data"
    }
   ],
   "source": [
    "fig, ax = plt.subplots(ncols = 2,\n",
    "                       nrows= 2,\n",
    "                       figsize = (15,15))\n",
    "\n",
    "sns.histplot(df.loc[:, 'Item_Weight'], ax = ax[0][0], kde = True)\n",
    "sns.histplot(df.loc[:, 'Item_Visibility'], ax = ax[0][1], kde = True)\n",
    "sns.histplot(df.loc[:, 'Item_MRP'], ax = ax[1][0], kde = True)\n",
    "sns.histplot(df.loc[:, 'Item_Outlet_Sales'], ax = ax[1][1], kde = True)\n",
    "\n",
    "fig.subplots_adjust(hspace = 0.2,wspace = 0.2)\n",
    "plt.show()"
   ]
  },
  {
   "cell_type": "markdown",
   "id": "b180878d-1b54-44ec-8e7e-be5a397aab3a",
   "metadata": {},
   "source": [
    "The distribution of Item_Outlet_Sales which is our target column seems to be right skewed.\n",
    "\n",
    "We will normalize this distribution later on before training."
   ]
  },
  {
   "cell_type": "markdown",
   "id": "fae3e786-3833-4643-8fe7-b0cb7e36132b",
   "metadata": {},
   "source": [
    "## Making countplots of output related categorical variables\n",
    "Also a countplot of the years variable"
   ]
  },
  {
   "cell_type": "code",
   "execution_count": 41,
   "id": "d223193a-ab81-4830-9deb-97f86d6b03cb",
   "metadata": {},
   "outputs": [
    {
     "data": {
      "text/plain": [
       "['Item_Identifier',\n",
       " 'Item_Fat_Content',\n",
       " 'Item_Type',\n",
       " 'Outlet_Identifier',\n",
       " 'Outlet_Size',\n",
       " 'Outlet_Location_Type',\n",
       " 'Outlet_Type']"
      ]
     },
     "execution_count": 41,
     "metadata": {},
     "output_type": "execute_result"
    }
   ],
   "source": [
    "list(data.dtypes[data.dtypes == 'object'].index)"
   ]
  },
  {
   "cell_type": "code",
   "execution_count": 42,
   "id": "8fbc9d93-bf20-4f6c-8e79-78c319607e81",
   "metadata": {},
   "outputs": [
    {
     "data": {
      "text/plain": [
       "['Outlet_Size',\n",
       " 'Outlet_Location_Type',\n",
       " 'Outlet_Type',\n",
       " 'Outlet_Establishment_Year']"
      ]
     },
     "execution_count": 42,
     "metadata": {},
     "output_type": "execute_result"
    }
   ],
   "source": [
    "list(data.dtypes[data.dtypes == 'object'].index[4:]) + ['Outlet_Establishment_Year']"
   ]
  },
  {
   "cell_type": "code",
   "execution_count": 43,
   "id": "d7c7f0b5-0315-4d45-a2bc-611e6c71c2e1",
   "metadata": {},
   "outputs": [
    {
     "data": {
      "image/png": "[encoded data removed]",
      "text/plain": [
       "<Figure size 1080x1080 with 4 Axes>"
      ]
     },
     "metadata": {
      "needs_background": "light"
     },
     "output_type": "display_data"
    }
   ],
   "source": [
    "fig, ax = plt.subplots(2,2, figsize = (15,15))\n",
    "\n",
    "sns.countplot(x = df.loc[:, 'Outlet_Size'], ax = ax[0][0])\n",
    "\n",
    "sns.countplot(x = df.loc[:, 'Outlet_Establishment_Year'], ax = ax[0][1], palette = \"Set2\")\n",
    "ax[0][1].set_xticklabels(ax[0][1].get_xticklabels(),rotation = 30)\n",
    "\n",
    "sns.countplot(x = df.loc[:, 'Outlet_Type'], ax = ax[1][0])\n",
    "ax[1][0].set_xticklabels(ax[1][0].get_xticklabels(),rotation = 30)\n",
    "\n",
    "sns.countplot(x = df.loc[:, 'Outlet_Location_Type'], ax = ax[1][1])\n",
    "\n",
    "fig.subplots_adjust(hspace = 0.2,wspace = 0.2)\n",
    "plt.show()"
   ]
  },
  {
   "cell_type": "markdown",
   "id": "9e8d089c-0b8c-4880-952b-70ba75bebb05",
   "metadata": {},
   "source": [
    "### Spectating Item_Fat_Content and Item_Type variables\n",
    "These are also categorical variables. "
   ]
  },
  {
   "cell_type": "code",
   "execution_count": 44,
   "id": "453cb7d6-d14c-4568-b1b7-fbc883de933e",
   "metadata": {},
   "outputs": [
    {
     "data": {
      "image/png": "[encoded data removed]",
      "text/plain": [
       "<Figure size 432x288 with 1 Axes>"
      ]
     },
     "metadata": {
      "needs_background": "light"
     },
     "output_type": "display_data"
    }
   ],
   "source": [
    "sns.countplot(x = df.loc[:, \"Item_Fat_Content\"]);"
   ]
  },
  {
   "cell_type": "code",
   "execution_count": 45,
   "id": "36d966b8-bf2d-441c-a689-8f4218a41d55",
   "metadata": {},
   "outputs": [
    {
     "data": {
      "image/png": "[encoded data removed]",
      "text/plain": [
       "<Figure size 1080x504 with 1 Axes>"
      ]
     },
     "metadata": {
      "needs_background": "light"
     },
     "output_type": "display_data"
    }
   ],
   "source": [
    "fig, ax = plt.subplots(figsize = (15,7))\n",
    "ax = sns.countplot(x = df.loc[:, \"Item_Type\"])\n",
    "plt.xticks(rotation = 45)\n",
    "plt.show();"
   ]
  },
  {
   "cell_type": "markdown",
   "id": "9745232b-8bb8-423c-9e7b-50e1a7bba0ac",
   "metadata": {},
   "source": [
    "### Correlation Matrix"
   ]
  },
  {
   "cell_type": "code",
   "execution_count": 46,
   "id": "70c09035-facd-4af7-843e-8b00a5ae7fc3",
   "metadata": {},
   "outputs": [
    {
     "data": {
      "text/html": [
       "<div>\n",
       "<style scoped>\n",
       "    .dataframe tbody tr th:only-of-type {\n",
       "        vertical-align: middle;\n",
       "    }\n",
       "\n",
       "    .dataframe tbody tr th {\n",
       "        vertical-align: top;\n",
       "    }\n",
       "\n",
       "    .dataframe thead th {\n",
       "        text-align: right;\n",
       "    }\n",
       "</style>\n",
       "<table border=\"1\" class=\"dataframe\">\n",
       "  <thead>\n",
       "    <tr style=\"text-align: right;\">\n",
       "      <th></th>\n",
       "      <th>Item_Weight</th>\n",
       "      <th>Item_Visibility</th>\n",
       "      <th>Item_MRP</th>\n",
       "      <th>Outlet_Establishment_Year</th>\n",
       "      <th>Item_Outlet_Sales</th>\n",
       "      <th>Outlet_Years</th>\n",
       "    </tr>\n",
       "  </thead>\n",
       "  <tbody>\n",
       "    <tr>\n",
       "      <th>Item_Weight</th>\n",
       "      <td>0.000000</td>\n",
       "      <td>0.020052</td>\n",
       "      <td>0.026517</td>\n",
       "      <td>0.012513</td>\n",
       "      <td>0.010240</td>\n",
       "      <td>0.012513</td>\n",
       "    </tr>\n",
       "    <tr>\n",
       "      <th>Item_Visibility</th>\n",
       "      <td>0.020052</td>\n",
       "      <td>0.000000</td>\n",
       "      <td>0.004763</td>\n",
       "      <td>0.078328</td>\n",
       "      <td>0.134161</td>\n",
       "      <td>0.078328</td>\n",
       "    </tr>\n",
       "    <tr>\n",
       "      <th>Item_MRP</th>\n",
       "      <td>0.026517</td>\n",
       "      <td>0.004763</td>\n",
       "      <td>0.000000</td>\n",
       "      <td>0.005020</td>\n",
       "      <td>0.567574</td>\n",
       "      <td>0.005020</td>\n",
       "    </tr>\n",
       "    <tr>\n",
       "      <th>Outlet_Establishment_Year</th>\n",
       "      <td>0.012513</td>\n",
       "      <td>0.078328</td>\n",
       "      <td>0.005020</td>\n",
       "      <td>0.000000</td>\n",
       "      <td>0.049135</td>\n",
       "      <td>1.000000</td>\n",
       "    </tr>\n",
       "    <tr>\n",
       "      <th>Item_Outlet_Sales</th>\n",
       "      <td>0.010240</td>\n",
       "      <td>0.134161</td>\n",
       "      <td>0.567574</td>\n",
       "      <td>0.049135</td>\n",
       "      <td>0.000000</td>\n",
       "      <td>0.049135</td>\n",
       "    </tr>\n",
       "    <tr>\n",
       "      <th>Outlet_Years</th>\n",
       "      <td>0.012513</td>\n",
       "      <td>0.078328</td>\n",
       "      <td>0.005020</td>\n",
       "      <td>1.000000</td>\n",
       "      <td>0.049135</td>\n",
       "      <td>0.000000</td>\n",
       "    </tr>\n",
       "  </tbody>\n",
       "</table>\n",
       "</div>"
      ],
      "text/plain": [
       "                           Item_Weight  Item_Visibility  Item_MRP  \\\n",
       "Item_Weight                   0.000000         0.020052  0.026517   \n",
       "Item_Visibility               0.020052         0.000000  0.004763   \n",
       "Item_MRP                      0.026517         0.004763  0.000000   \n",
       "Outlet_Establishment_Year     0.012513         0.078328  0.005020   \n",
       "Item_Outlet_Sales             0.010240         0.134161  0.567574   \n",
       "Outlet_Years                  0.012513         0.078328  0.005020   \n",
       "\n",
       "                           Outlet_Establishment_Year  Item_Outlet_Sales  \\\n",
       "Item_Weight                                 0.012513           0.010240   \n",
       "Item_Visibility                             0.078328           0.134161   \n",
       "Item_MRP                                    0.005020           0.567574   \n",
       "Outlet_Establishment_Year                   0.000000           0.049135   \n",
       "Item_Outlet_Sales                           0.049135           0.000000   \n",
       "Outlet_Years                                1.000000           0.049135   \n",
       "\n",
       "                           Outlet_Years  \n",
       "Item_Weight                    0.012513  \n",
       "Item_Visibility                0.078328  \n",
       "Item_MRP                       0.005020  \n",
       "Outlet_Establishment_Year      1.000000  \n",
       "Item_Outlet_Sales              0.049135  \n",
       "Outlet_Years                   0.000000  "
      ]
     },
     "execution_count": 46,
     "metadata": {},
     "output_type": "execute_result"
    }
   ],
   "source": [
    "corr_mat = df.corr().apply(abs).replace(1.0,0)\n",
    "corr_mat"
   ]
  },
  {
   "cell_type": "code",
   "execution_count": 47,
   "id": "dcccf356-51c0-4161-83bb-1c2bfe67186e",
   "metadata": {},
   "outputs": [
    {
     "data": {
      "image/png": "[encoded data removed]",
      "text/plain": [
       "<Figure size 864x720 with 2 Axes>"
      ]
     },
     "metadata": {
      "needs_background": "light"
     },
     "output_type": "display_data"
    }
   ],
   "source": [
    "fig, ax = plt.subplots(figsize = (12,10))\n",
    "\n",
    "ax = sns.heatmap(corr_mat,\n",
    "                cmap = 'mako_r',\n",
    "                annot = True)"
   ]
  },
  {
   "cell_type": "markdown",
   "id": "6a694de1-1253-45bd-bd52-434b6012a70a",
   "metadata": {},
   "source": [
    "Looking at variables that are most correlated with the label (Item_Outlet_Sales)"
   ]
  },
  {
   "cell_type": "code",
   "execution_count": 48,
   "id": "94c870c0-17ce-40a4-882e-4fcb6d0b9263",
   "metadata": {},
   "outputs": [
    {
     "data": {
      "text/plain": [
       "Item_MRP                     0.567574\n",
       "Item_Visibility              0.134161\n",
       "Outlet_Years                 0.049135\n",
       "Outlet_Establishment_Year    0.049135\n",
       "Item_Weight                  0.010240\n",
       "Item_Outlet_Sales            0.000000\n",
       "Name: Item_Outlet_Sales, dtype: float64"
      ]
     },
     "execution_count": 48,
     "metadata": {},
     "output_type": "execute_result"
    }
   ],
   "source": [
    "corr_mat.Item_Outlet_Sales.sort_values(ascending = False)"
   ]
  },
  {
   "cell_type": "markdown",
   "id": "4c651782-4cbc-45c6-9642-cb70caa83ca3",
   "metadata": {},
   "source": [
    "# Label Encoding"
   ]
  },
  {
   "cell_type": "code",
   "execution_count": 49,
   "id": "69fdd135-6ebf-40d7-b55b-1a5780b58f3e",
   "metadata": {},
   "outputs": [],
   "source": [
    "from sklearn.preprocessing import LabelEncoder\n",
    "le = LabelEncoder()"
   ]
  },
  {
   "cell_type": "code",
   "execution_count": 50,
   "id": "fa7e310b-6644-4065-9c92-8d848bcf3413",
   "metadata": {},
   "outputs": [],
   "source": [
    "df['Outlet'] = le.fit_transform(df['Outlet_Identifier'])\n",
    "cat_col = ['Item_Fat_Content', 'Item_Type', 'Outlet_Size', 'Outlet_Location_Type', 'Outlet_Type', 'New_Item_Type']\n",
    "for col in cat_col:\n",
    "    df[col] = le.fit_transform(df[col])"
   ]
  },
  {
   "cell_type": "markdown",
   "id": "9ca43a37-2a67-474f-b636-c9381266456d",
   "metadata": {},
   "source": [
    "## One-hot encoding"
   ]
  },
  {
   "cell_type": "code",
   "execution_count": 51,
   "id": "4c3cab0c-7a88-497f-adeb-4c28d29bd563",
   "metadata": {},
   "outputs": [
    {
     "data": {
      "text/html": [
       "<div>\n",
       "<style scoped>\n",
       "    .dataframe tbody tr th:only-of-type {\n",
       "        vertical-align: middle;\n",
       "    }\n",
       "\n",
       "    .dataframe tbody tr th {\n",
       "        vertical-align: top;\n",
       "    }\n",
       "\n",
       "    .dataframe thead th {\n",
       "        text-align: right;\n",
       "    }\n",
       "</style>\n",
       "<table border=\"1\" class=\"dataframe\">\n",
       "  <thead>\n",
       "    <tr style=\"text-align: right;\">\n",
       "      <th></th>\n",
       "      <th>Item_Identifier</th>\n",
       "      <th>Item_Weight</th>\n",
       "      <th>Item_Visibility</th>\n",
       "      <th>Item_Type</th>\n",
       "      <th>Item_MRP</th>\n",
       "      <th>Outlet_Identifier</th>\n",
       "      <th>Outlet_Establishment_Year</th>\n",
       "      <th>Item_Outlet_Sales</th>\n",
       "      <th>Outlet_Years</th>\n",
       "      <th>Outlet</th>\n",
       "      <th>...</th>\n",
       "      <th>Outlet_Location_Type_0</th>\n",
       "      <th>Outlet_Location_Type_1</th>\n",
       "      <th>Outlet_Location_Type_2</th>\n",
       "      <th>Outlet_Type_0</th>\n",
       "      <th>Outlet_Type_1</th>\n",
       "      <th>Outlet_Type_2</th>\n",
       "      <th>Outlet_Type_3</th>\n",
       "      <th>New_Item_Type_0</th>\n",
       "      <th>New_Item_Type_1</th>\n",
       "      <th>New_Item_Type_2</th>\n",
       "    </tr>\n",
       "  </thead>\n",
       "  <tbody>\n",
       "    <tr>\n",
       "      <th>0</th>\n",
       "      <td>FDA15</td>\n",
       "      <td>9.30</td>\n",
       "      <td>0.016047</td>\n",
       "      <td>4</td>\n",
       "      <td>249.8092</td>\n",
       "      <td>OUT049</td>\n",
       "      <td>1999</td>\n",
       "      <td>3735.1380</td>\n",
       "      <td>23</td>\n",
       "      <td>9</td>\n",
       "      <td>...</td>\n",
       "      <td>1</td>\n",
       "      <td>0</td>\n",
       "      <td>0</td>\n",
       "      <td>0</td>\n",
       "      <td>1</td>\n",
       "      <td>0</td>\n",
       "      <td>0</td>\n",
       "      <td>0</td>\n",
       "      <td>1</td>\n",
       "      <td>0</td>\n",
       "    </tr>\n",
       "    <tr>\n",
       "      <th>1</th>\n",
       "      <td>DRC01</td>\n",
       "      <td>5.92</td>\n",
       "      <td>0.019278</td>\n",
       "      <td>14</td>\n",
       "      <td>48.2692</td>\n",
       "      <td>OUT018</td>\n",
       "      <td>2009</td>\n",
       "      <td>443.4228</td>\n",
       "      <td>13</td>\n",
       "      <td>3</td>\n",
       "      <td>...</td>\n",
       "      <td>0</td>\n",
       "      <td>0</td>\n",
       "      <td>1</td>\n",
       "      <td>0</td>\n",
       "      <td>0</td>\n",
       "      <td>1</td>\n",
       "      <td>0</td>\n",
       "      <td>1</td>\n",
       "      <td>0</td>\n",
       "      <td>0</td>\n",
       "    </tr>\n",
       "    <tr>\n",
       "      <th>2</th>\n",
       "      <td>FDN15</td>\n",
       "      <td>17.50</td>\n",
       "      <td>0.016760</td>\n",
       "      <td>10</td>\n",
       "      <td>141.6180</td>\n",
       "      <td>OUT049</td>\n",
       "      <td>1999</td>\n",
       "      <td>2097.2700</td>\n",
       "      <td>23</td>\n",
       "      <td>9</td>\n",
       "      <td>...</td>\n",
       "      <td>1</td>\n",
       "      <td>0</td>\n",
       "      <td>0</td>\n",
       "      <td>0</td>\n",
       "      <td>1</td>\n",
       "      <td>0</td>\n",
       "      <td>0</td>\n",
       "      <td>0</td>\n",
       "      <td>1</td>\n",
       "      <td>0</td>\n",
       "    </tr>\n",
       "    <tr>\n",
       "      <th>3</th>\n",
       "      <td>FDX07</td>\n",
       "      <td>19.20</td>\n",
       "      <td>0.057792</td>\n",
       "      <td>6</td>\n",
       "      <td>182.0950</td>\n",
       "      <td>OUT010</td>\n",
       "      <td>1998</td>\n",
       "      <td>732.3800</td>\n",
       "      <td>24</td>\n",
       "      <td>0</td>\n",
       "      <td>...</td>\n",
       "      <td>0</td>\n",
       "      <td>0</td>\n",
       "      <td>1</td>\n",
       "      <td>1</td>\n",
       "      <td>0</td>\n",
       "      <td>0</td>\n",
       "      <td>0</td>\n",
       "      <td>0</td>\n",
       "      <td>1</td>\n",
       "      <td>0</td>\n",
       "    </tr>\n",
       "    <tr>\n",
       "      <th>4</th>\n",
       "      <td>NCD19</td>\n",
       "      <td>8.93</td>\n",
       "      <td>0.057792</td>\n",
       "      <td>9</td>\n",
       "      <td>53.8614</td>\n",
       "      <td>OUT013</td>\n",
       "      <td>1987</td>\n",
       "      <td>994.7052</td>\n",
       "      <td>35</td>\n",
       "      <td>1</td>\n",
       "      <td>...</td>\n",
       "      <td>0</td>\n",
       "      <td>0</td>\n",
       "      <td>1</td>\n",
       "      <td>0</td>\n",
       "      <td>1</td>\n",
       "      <td>0</td>\n",
       "      <td>0</td>\n",
       "      <td>0</td>\n",
       "      <td>0</td>\n",
       "      <td>1</td>\n",
       "    </tr>\n",
       "  </tbody>\n",
       "</table>\n",
       "<p>5 rows × 26 columns</p>\n",
       "</div>"
      ],
      "text/plain": [
       "  Item_Identifier  Item_Weight  Item_Visibility  Item_Type  Item_MRP  \\\n",
       "0           FDA15         9.30         0.016047          4  249.8092   \n",
       "1           DRC01         5.92         0.019278         14   48.2692   \n",
       "2           FDN15        17.50         0.016760         10  141.6180   \n",
       "3           FDX07        19.20         0.057792          6  182.0950   \n",
       "4           NCD19         8.93         0.057792          9   53.8614   \n",
       "\n",
       "  Outlet_Identifier  Outlet_Establishment_Year  Item_Outlet_Sales  \\\n",
       "0            OUT049                       1999          3735.1380   \n",
       "1            OUT018                       2009           443.4228   \n",
       "2            OUT049                       1999          2097.2700   \n",
       "3            OUT010                       1998           732.3800   \n",
       "4            OUT013                       1987           994.7052   \n",
       "\n",
       "   Outlet_Years  Outlet  ...  Outlet_Location_Type_0  Outlet_Location_Type_1  \\\n",
       "0            23       9  ...                       1                       0   \n",
       "1            13       3  ...                       0                       0   \n",
       "2            23       9  ...                       1                       0   \n",
       "3            24       0  ...                       0                       0   \n",
       "4            35       1  ...                       0                       0   \n",
       "\n",
       "   Outlet_Location_Type_2  Outlet_Type_0  Outlet_Type_1  Outlet_Type_2  \\\n",
       "0                       0              0              1              0   \n",
       "1                       1              0              0              1   \n",
       "2                       0              0              1              0   \n",
       "3                       1              1              0              0   \n",
       "4                       1              0              1              0   \n",
       "\n",
       "   Outlet_Type_3  New_Item_Type_0  New_Item_Type_1  New_Item_Type_2  \n",
       "0              0                0                1                0  \n",
       "1              0                1                0                0  \n",
       "2              0                0                1                0  \n",
       "3              0                0                1                0  \n",
       "4              0                0                0                1  \n",
       "\n",
       "[5 rows x 26 columns]"
      ]
     },
     "execution_count": 51,
     "metadata": {},
     "output_type": "execute_result"
    }
   ],
   "source": [
    "df = pd.get_dummies(df, columns=['Item_Fat_Content', 'Outlet_Size', 'Outlet_Location_Type', 'Outlet_Type', 'New_Item_Type'])\n",
    "df.head()"
   ]
  },
  {
   "cell_type": "markdown",
   "id": "6a84ca9c-ab1e-4e3c-8412-525a3a4c961e",
   "metadata": {
    "tags": []
   },
   "source": [
    "# Creating X and y variables"
   ]
  },
  {
   "cell_type": "code",
   "execution_count": 52,
   "id": "0803311e-5dd5-46a5-bd16-180530e61923",
   "metadata": {},
   "outputs": [],
   "source": [
    "X = df.drop(columns=['Outlet_Establishment_Year', 'Item_Identifier', 'Outlet_Identifier', 'Item_Outlet_Sales'])\n",
    "y = df['Item_Outlet_Sales']"
   ]
  },
  {
   "cell_type": "markdown",
   "id": "86a3c140-df34-484d-80c8-2b60ef35baa4",
   "metadata": {
    "tags": []
   },
   "source": [
    "# Normalizing Label"
   ]
  },
  {
   "cell_type": "code",
   "execution_count": 53,
   "id": "78491e96-d37a-4b31-92d4-b355ee15dd46",
   "metadata": {
    "tags": []
   },
   "outputs": [],
   "source": [
    "from scipy.stats.mstats import normaltest"
   ]
  },
  {
   "cell_type": "code",
   "execution_count": 54,
   "id": "1b947b1c-03e9-4a6e-b911-1b3f3b2612a0",
   "metadata": {},
   "outputs": [
    {
     "data": {
      "text/plain": [
       "NormaltestResult(statistic=1591.7919099869514, pvalue=0.0)"
      ]
     },
     "execution_count": 54,
     "metadata": {},
     "output_type": "execute_result"
    }
   ],
   "source": [
    "normaltest(df.loc[:, 'Item_Outlet_Sales'])"
   ]
  },
  {
   "cell_type": "markdown",
   "id": "ffb19771-f245-41fe-a62c-7c1b66c8222f",
   "metadata": {},
   "source": [
    "If pvalue was greater than 0.5, it could be considered normal. But this is heavily skewed."
   ]
  },
  {
   "cell_type": "markdown",
   "id": "3ed0cb56-a583-4e2f-8d2d-61b252dc5f36",
   "metadata": {},
   "source": [
    "Item Outlet Sales column, which is also our label is right skewed. We will normalize this distribution"
   ]
  },
  {
   "cell_type": "code",
   "execution_count": 55,
   "id": "2659cacd-291f-4e14-af8b-944a57ba93d0",
   "metadata": {},
   "outputs": [],
   "source": [
    "from scipy.stats import boxcox"
   ]
  },
  {
   "cell_type": "code",
   "execution_count": 56,
   "id": "b80122b1-dbeb-4b0f-803f-e3eea7f8a046",
   "metadata": {},
   "outputs": [],
   "source": [
    "y_norm,y_lam = boxcox(y)"
   ]
  },
  {
   "cell_type": "code",
   "execution_count": 57,
   "id": "8454712a-cf43-4c4c-8470-d1083a6e84ec",
   "metadata": {},
   "outputs": [
    {
     "data": {
      "image/png": "[encoded data removed]",
      "text/plain": [
       "<Figure size 432x288 with 1 Axes>"
      ]
     },
     "metadata": {
      "needs_background": "light"
     },
     "output_type": "display_data"
    }
   ],
   "source": [
    "sns.histplot(y_norm, kde = True);"
   ]
  },
  {
   "cell_type": "code",
   "execution_count": 58,
   "id": "90266f13-818c-45b6-87fe-bf654ef922fa",
   "metadata": {},
   "outputs": [
    {
     "data": {
      "text/plain": [
       "NormaltestResult(statistic=207.8732183960798, pvalue=7.25945734144925e-46)"
      ]
     },
     "execution_count": 58,
     "metadata": {},
     "output_type": "execute_result"
    }
   ],
   "source": [
    "normaltest(y_norm)"
   ]
  },
  {
   "cell_type": "markdown",
   "id": "0210f0bb-3c08-4cd6-a299-9adf6323e3b5",
   "metadata": {},
   "source": [
    "The distribution is far more normal than it was before. We also used the numeric metric to confirm"
   ]
  },
  {
   "cell_type": "markdown",
   "id": "808edc95-53ed-4cd4-b485-9fc2019bb2b9",
   "metadata": {},
   "source": [
    "# Creating train test splits"
   ]
  },
  {
   "cell_type": "code",
   "execution_count": 59,
   "id": "56875188-f9ed-46d9-abd3-ae8028f26b50",
   "metadata": {},
   "outputs": [],
   "source": [
    "from sklearn.model_selection import train_test_split\n",
    "\n",
    "X_train, X_test, y_train, y_test = train_test_split(X, y_norm, test_size=0.2)"
   ]
  },
  {
   "cell_type": "markdown",
   "id": "efb9c5c8-a433-4d2e-bc30-0db324d13eba",
   "metadata": {
    "tags": []
   },
   "source": [
    "# Scaling some columns"
   ]
  },
  {
   "cell_type": "code",
   "execution_count": 60,
   "id": "02b06d33-94f7-4c9a-9d3a-7638b678eaf8",
   "metadata": {},
   "outputs": [],
   "source": [
    "from sklearn.preprocessing import StandardScaler"
   ]
  },
  {
   "cell_type": "code",
   "execution_count": 61,
   "id": "5157078d-9e76-488c-bd46-6424d4bc03cf",
   "metadata": {},
   "outputs": [],
   "source": [
    "scaler = StandardScaler()"
   ]
  },
  {
   "cell_type": "code",
   "execution_count": 62,
   "id": "342a384a-e8fb-48e6-86b6-8e397b13b328",
   "metadata": {},
   "outputs": [
    {
     "data": {
      "text/html": [
       "<div>\n",
       "<style scoped>\n",
       "    .dataframe tbody tr th:only-of-type {\n",
       "        vertical-align: middle;\n",
       "    }\n",
       "\n",
       "    .dataframe tbody tr th {\n",
       "        vertical-align: top;\n",
       "    }\n",
       "\n",
       "    .dataframe thead th {\n",
       "        text-align: right;\n",
       "    }\n",
       "</style>\n",
       "<table border=\"1\" class=\"dataframe\">\n",
       "  <thead>\n",
       "    <tr style=\"text-align: right;\">\n",
       "      <th></th>\n",
       "      <th>Item_Weight</th>\n",
       "      <th>Item_Visibility</th>\n",
       "      <th>Item_Type</th>\n",
       "      <th>Item_MRP</th>\n",
       "      <th>Outlet_Years</th>\n",
       "      <th>Outlet</th>\n",
       "      <th>Item_Fat_Content_0</th>\n",
       "      <th>Item_Fat_Content_1</th>\n",
       "      <th>Item_Fat_Content_2</th>\n",
       "      <th>Outlet_Size_0</th>\n",
       "      <th>...</th>\n",
       "      <th>Outlet_Location_Type_0</th>\n",
       "      <th>Outlet_Location_Type_1</th>\n",
       "      <th>Outlet_Location_Type_2</th>\n",
       "      <th>Outlet_Type_0</th>\n",
       "      <th>Outlet_Type_1</th>\n",
       "      <th>Outlet_Type_2</th>\n",
       "      <th>Outlet_Type_3</th>\n",
       "      <th>New_Item_Type_0</th>\n",
       "      <th>New_Item_Type_1</th>\n",
       "      <th>New_Item_Type_2</th>\n",
       "    </tr>\n",
       "  </thead>\n",
       "  <tbody>\n",
       "    <tr>\n",
       "      <th>count</th>\n",
       "      <td>8523.000000</td>\n",
       "      <td>8523.000000</td>\n",
       "      <td>8523.000000</td>\n",
       "      <td>8523.000000</td>\n",
       "      <td>8523.000000</td>\n",
       "      <td>8523.000000</td>\n",
       "      <td>8523.000000</td>\n",
       "      <td>8523.000000</td>\n",
       "      <td>8523.000000</td>\n",
       "      <td>8523.000000</td>\n",
       "      <td>...</td>\n",
       "      <td>8523.000000</td>\n",
       "      <td>8523.000000</td>\n",
       "      <td>8523.000000</td>\n",
       "      <td>8523.000000</td>\n",
       "      <td>8523.000000</td>\n",
       "      <td>8523.000000</td>\n",
       "      <td>8523.000000</td>\n",
       "      <td>8523.000000</td>\n",
       "      <td>8523.000000</td>\n",
       "      <td>8523.000000</td>\n",
       "    </tr>\n",
       "    <tr>\n",
       "      <th>mean</th>\n",
       "      <td>12.796782</td>\n",
       "      <td>0.069699</td>\n",
       "      <td>7.226681</td>\n",
       "      <td>140.992782</td>\n",
       "      <td>24.168133</td>\n",
       "      <td>4.722281</td>\n",
       "      <td>0.459697</td>\n",
       "      <td>0.187610</td>\n",
       "      <td>0.352693</td>\n",
       "      <td>0.109351</td>\n",
       "      <td>...</td>\n",
       "      <td>0.280183</td>\n",
       "      <td>0.326763</td>\n",
       "      <td>0.393054</td>\n",
       "      <td>0.127068</td>\n",
       "      <td>0.654347</td>\n",
       "      <td>0.108882</td>\n",
       "      <td>0.109703</td>\n",
       "      <td>0.093746</td>\n",
       "      <td>0.718644</td>\n",
       "      <td>0.187610</td>\n",
       "    </tr>\n",
       "    <tr>\n",
       "      <th>std</th>\n",
       "      <td>4.652612</td>\n",
       "      <td>0.048826</td>\n",
       "      <td>4.209990</td>\n",
       "      <td>62.275067</td>\n",
       "      <td>8.371760</td>\n",
       "      <td>2.837201</td>\n",
       "      <td>0.498402</td>\n",
       "      <td>0.390423</td>\n",
       "      <td>0.477836</td>\n",
       "      <td>0.312098</td>\n",
       "      <td>...</td>\n",
       "      <td>0.449115</td>\n",
       "      <td>0.469057</td>\n",
       "      <td>0.488457</td>\n",
       "      <td>0.333069</td>\n",
       "      <td>0.475609</td>\n",
       "      <td>0.311509</td>\n",
       "      <td>0.312538</td>\n",
       "      <td>0.291493</td>\n",
       "      <td>0.449687</td>\n",
       "      <td>0.390423</td>\n",
       "    </tr>\n",
       "    <tr>\n",
       "      <th>min</th>\n",
       "      <td>4.000000</td>\n",
       "      <td>0.003575</td>\n",
       "      <td>0.000000</td>\n",
       "      <td>31.290000</td>\n",
       "      <td>13.000000</td>\n",
       "      <td>0.000000</td>\n",
       "      <td>0.000000</td>\n",
       "      <td>0.000000</td>\n",
       "      <td>0.000000</td>\n",
       "      <td>0.000000</td>\n",
       "      <td>...</td>\n",
       "      <td>0.000000</td>\n",
       "      <td>0.000000</td>\n",
       "      <td>0.000000</td>\n",
       "      <td>0.000000</td>\n",
       "      <td>0.000000</td>\n",
       "      <td>0.000000</td>\n",
       "      <td>0.000000</td>\n",
       "      <td>0.000000</td>\n",
       "      <td>0.000000</td>\n",
       "      <td>0.000000</td>\n",
       "    </tr>\n",
       "    <tr>\n",
       "      <th>25%</th>\n",
       "      <td>8.710000</td>\n",
       "      <td>0.033085</td>\n",
       "      <td>4.000000</td>\n",
       "      <td>93.826500</td>\n",
       "      <td>18.000000</td>\n",
       "      <td>2.000000</td>\n",
       "      <td>0.000000</td>\n",
       "      <td>0.000000</td>\n",
       "      <td>0.000000</td>\n",
       "      <td>0.000000</td>\n",
       "      <td>...</td>\n",
       "      <td>0.000000</td>\n",
       "      <td>0.000000</td>\n",
       "      <td>0.000000</td>\n",
       "      <td>0.000000</td>\n",
       "      <td>0.000000</td>\n",
       "      <td>0.000000</td>\n",
       "      <td>0.000000</td>\n",
       "      <td>0.000000</td>\n",
       "      <td>0.000000</td>\n",
       "      <td>0.000000</td>\n",
       "    </tr>\n",
       "    <tr>\n",
       "      <th>50%</th>\n",
       "      <td>12.600000</td>\n",
       "      <td>0.057792</td>\n",
       "      <td>6.000000</td>\n",
       "      <td>143.012800</td>\n",
       "      <td>23.000000</td>\n",
       "      <td>5.000000</td>\n",
       "      <td>0.000000</td>\n",
       "      <td>0.000000</td>\n",
       "      <td>0.000000</td>\n",
       "      <td>0.000000</td>\n",
       "      <td>...</td>\n",
       "      <td>0.000000</td>\n",
       "      <td>0.000000</td>\n",
       "      <td>0.000000</td>\n",
       "      <td>0.000000</td>\n",
       "      <td>1.000000</td>\n",
       "      <td>0.000000</td>\n",
       "      <td>0.000000</td>\n",
       "      <td>0.000000</td>\n",
       "      <td>1.000000</td>\n",
       "      <td>0.000000</td>\n",
       "    </tr>\n",
       "    <tr>\n",
       "      <th>75%</th>\n",
       "      <td>16.850000</td>\n",
       "      <td>0.094585</td>\n",
       "      <td>10.000000</td>\n",
       "      <td>185.643700</td>\n",
       "      <td>35.000000</td>\n",
       "      <td>7.000000</td>\n",
       "      <td>1.000000</td>\n",
       "      <td>0.000000</td>\n",
       "      <td>1.000000</td>\n",
       "      <td>0.000000</td>\n",
       "      <td>...</td>\n",
       "      <td>1.000000</td>\n",
       "      <td>1.000000</td>\n",
       "      <td>1.000000</td>\n",
       "      <td>0.000000</td>\n",
       "      <td>1.000000</td>\n",
       "      <td>0.000000</td>\n",
       "      <td>0.000000</td>\n",
       "      <td>0.000000</td>\n",
       "      <td>1.000000</td>\n",
       "      <td>0.000000</td>\n",
       "    </tr>\n",
       "    <tr>\n",
       "      <th>max</th>\n",
       "      <td>21.350000</td>\n",
       "      <td>0.328391</td>\n",
       "      <td>15.000000</td>\n",
       "      <td>266.888400</td>\n",
       "      <td>37.000000</td>\n",
       "      <td>9.000000</td>\n",
       "      <td>1.000000</td>\n",
       "      <td>1.000000</td>\n",
       "      <td>1.000000</td>\n",
       "      <td>1.000000</td>\n",
       "      <td>...</td>\n",
       "      <td>1.000000</td>\n",
       "      <td>1.000000</td>\n",
       "      <td>1.000000</td>\n",
       "      <td>1.000000</td>\n",
       "      <td>1.000000</td>\n",
       "      <td>1.000000</td>\n",
       "      <td>1.000000</td>\n",
       "      <td>1.000000</td>\n",
       "      <td>1.000000</td>\n",
       "      <td>1.000000</td>\n",
       "    </tr>\n",
       "  </tbody>\n",
       "</table>\n",
       "<p>8 rows × 22 columns</p>\n",
       "</div>"
      ],
      "text/plain": [
       "       Item_Weight  Item_Visibility    Item_Type     Item_MRP  Outlet_Years  \\\n",
       "count  8523.000000      8523.000000  8523.000000  8523.000000   8523.000000   \n",
       "mean     12.796782         0.069699     7.226681   140.992782     24.168133   \n",
       "std       4.652612         0.048826     4.209990    62.275067      8.371760   \n",
       "min       4.000000         0.003575     0.000000    31.290000     13.000000   \n",
       "25%       8.710000         0.033085     4.000000    93.826500     18.000000   \n",
       "50%      12.600000         0.057792     6.000000   143.012800     23.000000   \n",
       "75%      16.850000         0.094585    10.000000   185.643700     35.000000   \n",
       "max      21.350000         0.328391    15.000000   266.888400     37.000000   \n",
       "\n",
       "            Outlet  Item_Fat_Content_0  Item_Fat_Content_1  \\\n",
       "count  8523.000000         8523.000000         8523.000000   \n",
       "mean      4.722281            0.459697            0.187610   \n",
       "std       2.837201            0.498402            0.390423   \n",
       "min       0.000000            0.000000            0.000000   \n",
       "25%       2.000000            0.000000            0.000000   \n",
       "50%       5.000000            0.000000            0.000000   \n",
       "75%       7.000000            1.000000            0.000000   \n",
       "max       9.000000            1.000000            1.000000   \n",
       "\n",
       "       Item_Fat_Content_2  Outlet_Size_0  ...  Outlet_Location_Type_0  \\\n",
       "count         8523.000000    8523.000000  ...             8523.000000   \n",
       "mean             0.352693       0.109351  ...                0.280183   \n",
       "std              0.477836       0.312098  ...                0.449115   \n",
       "min              0.000000       0.000000  ...                0.000000   \n",
       "25%              0.000000       0.000000  ...                0.000000   \n",
       "50%              0.000000       0.000000  ...                0.000000   \n",
       "75%              1.000000       0.000000  ...                1.000000   \n",
       "max              1.000000       1.000000  ...                1.000000   \n",
       "\n",
       "       Outlet_Location_Type_1  Outlet_Location_Type_2  Outlet_Type_0  \\\n",
       "count             8523.000000             8523.000000    8523.000000   \n",
       "mean                 0.326763                0.393054       0.127068   \n",
       "std                  0.469057                0.488457       0.333069   \n",
       "min                  0.000000                0.000000       0.000000   \n",
       "25%                  0.000000                0.000000       0.000000   \n",
       "50%                  0.000000                0.000000       0.000000   \n",
       "75%                  1.000000                1.000000       0.000000   \n",
       "max                  1.000000                1.000000       1.000000   \n",
       "\n",
       "       Outlet_Type_1  Outlet_Type_2  Outlet_Type_3  New_Item_Type_0  \\\n",
       "count    8523.000000    8523.000000    8523.000000      8523.000000   \n",
       "mean        0.654347       0.108882       0.109703         0.093746   \n",
       "std         0.475609       0.311509       0.312538         0.291493   \n",
       "min         0.000000       0.000000       0.000000         0.000000   \n",
       "25%         0.000000       0.000000       0.000000         0.000000   \n",
       "50%         1.000000       0.000000       0.000000         0.000000   \n",
       "75%         1.000000       0.000000       0.000000         0.000000   \n",
       "max         1.000000       1.000000       1.000000         1.000000   \n",
       "\n",
       "       New_Item_Type_1  New_Item_Type_2  \n",
       "count      8523.000000      8523.000000  \n",
       "mean          0.718644         0.187610  \n",
       "std           0.449687         0.390423  \n",
       "min           0.000000         0.000000  \n",
       "25%           0.000000         0.000000  \n",
       "50%           1.000000         0.000000  \n",
       "75%           1.000000         0.000000  \n",
       "max           1.000000         1.000000  \n",
       "\n",
       "[8 rows x 22 columns]"
      ]
     },
     "execution_count": 62,
     "metadata": {},
     "output_type": "execute_result"
    }
   ],
   "source": [
    "X.describe()"
   ]
  },
  {
   "cell_type": "code",
   "execution_count": 63,
   "id": "b36e3e44-b0e4-4522-a179-f57bec26813e",
   "metadata": {},
   "outputs": [
    {
     "data": {
      "text/plain": [
       "Item_Weight               float64\n",
       "Item_Visibility           float64\n",
       "Item_Type                   int64\n",
       "Item_MRP                  float64\n",
       "Outlet_Years                int64\n",
       "Outlet                      int64\n",
       "Item_Fat_Content_0          uint8\n",
       "Item_Fat_Content_1          uint8\n",
       "Item_Fat_Content_2          uint8\n",
       "Outlet_Size_0               uint8\n",
       "Outlet_Size_1               uint8\n",
       "Outlet_Size_2               uint8\n",
       "Outlet_Location_Type_0      uint8\n",
       "Outlet_Location_Type_1      uint8\n",
       "Outlet_Location_Type_2      uint8\n",
       "Outlet_Type_0               uint8\n",
       "Outlet_Type_1               uint8\n",
       "Outlet_Type_2               uint8\n",
       "Outlet_Type_3               uint8\n",
       "New_Item_Type_0             uint8\n",
       "New_Item_Type_1             uint8\n",
       "New_Item_Type_2             uint8\n",
       "dtype: object"
      ]
     },
     "execution_count": 63,
     "metadata": {},
     "output_type": "execute_result"
    }
   ],
   "source": [
    "X.dtypes"
   ]
  },
  {
   "cell_type": "code",
   "execution_count": 64,
   "id": "714f7256-ad78-4fc5-9c4e-e15056f53e45",
   "metadata": {},
   "outputs": [],
   "source": [
    "X_numeric = df.loc[:, ['Item_Weight', 'Item_Visibility', 'Item_Type', 'Item_MRP', 'Outlet_Years', 'Outlet']]"
   ]
  },
  {
   "cell_type": "code",
   "execution_count": 65,
   "id": "01797c06-b1d2-42a7-84ab-e987b8fc6db3",
   "metadata": {},
   "outputs": [
    {
     "data": {
      "text/html": [
       "<div>\n",
       "<style scoped>\n",
       "    .dataframe tbody tr th:only-of-type {\n",
       "        vertical-align: middle;\n",
       "    }\n",
       "\n",
       "    .dataframe tbody tr th {\n",
       "        vertical-align: top;\n",
       "    }\n",
       "\n",
       "    .dataframe thead th {\n",
       "        text-align: right;\n",
       "    }\n",
       "</style>\n",
       "<table border=\"1\" class=\"dataframe\">\n",
       "  <thead>\n",
       "    <tr style=\"text-align: right;\">\n",
       "      <th></th>\n",
       "      <th>Item_Weight</th>\n",
       "      <th>Item_Visibility</th>\n",
       "      <th>Item_Type</th>\n",
       "      <th>Item_MRP</th>\n",
       "      <th>Outlet_Years</th>\n",
       "      <th>Outlet</th>\n",
       "    </tr>\n",
       "  </thead>\n",
       "  <tbody>\n",
       "    <tr>\n",
       "      <th>min</th>\n",
       "      <td>4.00</td>\n",
       "      <td>0.003575</td>\n",
       "      <td>0.0</td>\n",
       "      <td>31.2900</td>\n",
       "      <td>13.0</td>\n",
       "      <td>0.0</td>\n",
       "    </tr>\n",
       "    <tr>\n",
       "      <th>max</th>\n",
       "      <td>21.35</td>\n",
       "      <td>0.328391</td>\n",
       "      <td>15.0</td>\n",
       "      <td>266.8884</td>\n",
       "      <td>37.0</td>\n",
       "      <td>9.0</td>\n",
       "    </tr>\n",
       "  </tbody>\n",
       "</table>\n",
       "</div>"
      ],
      "text/plain": [
       "     Item_Weight  Item_Visibility  Item_Type  Item_MRP  Outlet_Years  Outlet\n",
       "min         4.00         0.003575        0.0   31.2900          13.0     0.0\n",
       "max        21.35         0.328391       15.0  266.8884          37.0     9.0"
      ]
     },
     "execution_count": 65,
     "metadata": {},
     "output_type": "execute_result"
    }
   ],
   "source": [
    "X_numeric.describe().loc[['min', 'max']]"
   ]
  },
  {
   "cell_type": "code",
   "execution_count": 66,
   "id": "64e80279-2676-4b84-99ad-99c962602260",
   "metadata": {},
   "outputs": [
    {
     "data": {
      "text/plain": [
       "StandardScaler()"
      ]
     },
     "execution_count": 66,
     "metadata": {},
     "output_type": "execute_result"
    }
   ],
   "source": [
    "scaler.fit(X_train)"
   ]
  },
  {
   "cell_type": "code",
   "execution_count": 67,
   "id": "5fc48016-10c4-4098-802f-d0b39fb0e221",
   "metadata": {},
   "outputs": [],
   "source": [
    "X_train = scaler.transform(X_train)"
   ]
  },
  {
   "cell_type": "code",
   "execution_count": 68,
   "id": "1a8c6fd8-34ec-45d7-8e01-e58bb18c4a62",
   "metadata": {},
   "outputs": [],
   "source": [
    "X_test = scaler.transform(X_test)"
   ]
  },
  {
   "cell_type": "code",
   "execution_count": 69,
   "id": "de73fbf2-0a0a-48f7-bc20-4c2b8129ffef",
   "metadata": {},
   "outputs": [
    {
     "data": {
      "text/plain": [
       "array([[ 1.38534984,  0.48995592, -0.53231033, ..., -0.31823898,\n",
       "         0.62178602, -0.47937249],\n",
       "       [-0.31558196, -0.2807439 , -1.72185206, ..., -0.31823898,\n",
       "         0.62178602, -0.47937249],\n",
       "       [ 0.52411855, -0.74274123,  0.41932306, ..., -0.31823898,\n",
       "        -1.60827031,  2.08606049],\n",
       "       ...,\n",
       "       [-0.20792805,  2.04183899, -1.00812702, ..., -0.31823898,\n",
       "         0.62178602, -0.47937249],\n",
       "       [ 0.19039142,  2.3402426 , -1.00812702, ..., -0.31823898,\n",
       "         0.62178602, -0.47937249],\n",
       "       [ 0.48105698,  1.03425924, -1.72185206, ..., -0.31823898,\n",
       "         0.62178602, -0.47937249]])"
      ]
     },
     "execution_count": 69,
     "metadata": {},
     "output_type": "execute_result"
    }
   ],
   "source": [
    "X_train"
   ]
  },
  {
   "cell_type": "markdown",
   "id": "a3f73a6f-7eb5-4eac-a29a-74dfe2875496",
   "metadata": {},
   "source": [
    "# Trying out different learners\n",
    "We will do hyperparameter tuning on the regressors that perform well here"
   ]
  },
  {
   "cell_type": "code",
   "execution_count": 70,
   "id": "96189b9d-27d1-47bb-b028-6a476c4883eb",
   "metadata": {},
   "outputs": [],
   "source": [
    "from sklearn.model_selection import cross_val_score\n",
    "def train(model, X, y, model_name):\n",
    "    \n",
    "    model.fit(X, y)\n",
    "    pred = model.predict(X)\n",
    "    \n",
    "    cv_score = cross_val_score(model, X, y, scoring='neg_mean_squared_error', cv=5)\n",
    "    cv_score = np.abs(np.mean(cv_score))\n",
    "    \n",
    "    print(\"Model Report\")\n",
    "    print(f\"CV Score: {cv_score}\")\n",
    "    \n",
    "    return pd.Series(data=cv_score, index=[model_name])"
   ]
  },
  {
   "cell_type": "code",
   "execution_count": 71,
   "id": "f0890cea-a58a-4dbb-8b08-81c8f45cab97",
   "metadata": {},
   "outputs": [],
   "source": [
    "from sklearn.linear_model import LinearRegression, Ridge, Lasso"
   ]
  },
  {
   "cell_type": "code",
   "execution_count": 72,
   "id": "44740454-2181-4ae7-a3cd-59e92bc7e488",
   "metadata": {},
   "outputs": [],
   "source": [
    "cv_score_list = []"
   ]
  },
  {
   "cell_type": "markdown",
   "id": "a1cd107c-175f-40a3-b1fd-cfba95d8bc64",
   "metadata": {},
   "source": [
    "### Linear Regression"
   ]
  },
  {
   "cell_type": "code",
   "execution_count": 73,
   "id": "65630962-dd4a-4720-a4c8-bbf57bd71424",
   "metadata": {},
   "outputs": [
    {
     "name": "stdout",
     "output_type": "stream",
     "text": [
      "Model Report\n",
      "CV Score: 44.45975349766602\n"
     ]
    }
   ],
   "source": [
    "from sklearn.linear_model import LinearRegression, Ridge, Lasso\n",
    "model = LinearRegression()\n",
    "cv_score_list.append(train(model, X_train, y_train, 'LinearRegression'))"
   ]
  },
  {
   "cell_type": "markdown",
   "id": "bc6613c8-e320-45ca-8a6c-470465cf8e31",
   "metadata": {},
   "source": [
    "### Ridge"
   ]
  },
  {
   "cell_type": "code",
   "execution_count": 74,
   "id": "9b7ed386-5a68-46cf-afbf-acc59b15b06f",
   "metadata": {},
   "outputs": [
    {
     "name": "stdout",
     "output_type": "stream",
     "text": [
      "Model Report\n",
      "CV Score: 44.43324298736316\n"
     ]
    }
   ],
   "source": [
    "model = Ridge()\n",
    "cv_score_list.append(train(model, X_train, y_train, 'Ridge'))"
   ]
  },
  {
   "cell_type": "markdown",
   "id": "c073213e-02fb-4a73-8459-887f42690a20",
   "metadata": {},
   "source": [
    "### Lasso"
   ]
  },
  {
   "cell_type": "code",
   "execution_count": 75,
   "id": "c8c5c0d5-b8f0-4c40-98fd-2200aa7695e2",
   "metadata": {},
   "outputs": [
    {
     "name": "stdout",
     "output_type": "stream",
     "text": [
      "Model Report\n",
      "CV Score: 47.6991242893388\n"
     ]
    }
   ],
   "source": [
    "model = Lasso()\n",
    "cv_score_list.append(train(model, X_train, y_train, 'Lasso'))"
   ]
  },
  {
   "cell_type": "code",
   "execution_count": 76,
   "id": "4278d66c-6107-4dd2-b980-1141a06e20f5",
   "metadata": {},
   "outputs": [],
   "source": [
    "from sklearn.ensemble import RandomForestRegressor\n",
    "from sklearn.ensemble import ExtraTreesRegressor"
   ]
  },
  {
   "cell_type": "markdown",
   "id": "3990c451-5a7e-4698-aee7-87eb5e2f8dc7",
   "metadata": {},
   "source": [
    "### Random Forest"
   ]
  },
  {
   "cell_type": "code",
   "execution_count": 77,
   "id": "58327f90-195c-41d0-b8cc-197284a493e2",
   "metadata": {},
   "outputs": [
    {
     "name": "stdout",
     "output_type": "stream",
     "text": [
      "Model Report\n",
      "CV Score: 46.98548598932598\n"
     ]
    }
   ],
   "source": [
    "model = RandomForestRegressor()\n",
    "cv_score_list.append(train(model, X_train, y_train, 'RandomForest'))"
   ]
  },
  {
   "cell_type": "markdown",
   "id": "b8c1b2f7-f4a7-46f1-bead-115c7bf961f9",
   "metadata": {},
   "source": [
    "### ExtraTreesRegressor"
   ]
  },
  {
   "cell_type": "code",
   "execution_count": 78,
   "id": "ce15a96e-5558-4b06-9c09-ec9d52e6f77d",
   "metadata": {},
   "outputs": [
    {
     "name": "stdout",
     "output_type": "stream",
     "text": [
      "Model Report\n",
      "CV Score: 50.41908447982571\n"
     ]
    }
   ],
   "source": [
    "model = ExtraTreesRegressor()\n",
    "cv_score_list.append(train(model, X_train, y_train, 'ExtraTreesRegressor'))"
   ]
  },
  {
   "cell_type": "markdown",
   "id": "0e42f677-9c5f-4d9e-b76f-040d6f3defc8",
   "metadata": {},
   "source": [
    "### LightBGM"
   ]
  },
  {
   "cell_type": "code",
   "execution_count": 79,
   "id": "aa4f017f-ec93-4db8-b53f-607a01f2e6fb",
   "metadata": {},
   "outputs": [],
   "source": [
    "from lightgbm import LGBMRegressor"
   ]
  },
  {
   "cell_type": "code",
   "execution_count": 80,
   "id": "e186c9c4-b8e7-486a-8d77-894c2e1da4d6",
   "metadata": {},
   "outputs": [
    {
     "name": "stdout",
     "output_type": "stream",
     "text": [
      "Model Report\n",
      "CV Score: 43.97782515185087\n"
     ]
    }
   ],
   "source": [
    "model = LGBMRegressor()\n",
    "cv_score_list.append(train(model, X_train, y_train, 'LGBM'))"
   ]
  },
  {
   "cell_type": "markdown",
   "id": "1b579ba2-3ee8-49a5-921b-3b5ae1175e3f",
   "metadata": {},
   "source": [
    "### XGBoost"
   ]
  },
  {
   "cell_type": "code",
   "execution_count": 81,
   "id": "581762fe-1c03-415f-b7fd-6ead44143d7e",
   "metadata": {},
   "outputs": [],
   "source": [
    "from xgboost import XGBRegressor"
   ]
  },
  {
   "cell_type": "code",
   "execution_count": 82,
   "id": "d251726b-4336-48cc-95d1-d746441082f9",
   "metadata": {},
   "outputs": [
    {
     "name": "stdout",
     "output_type": "stream",
     "text": [
      "Model Report\n",
      "CV Score: 48.946292636107664\n"
     ]
    }
   ],
   "source": [
    "model = XGBRegressor()\n",
    "cv_score_list.append(train(model, X_train, y_train, 'XGB'))"
   ]
  },
  {
   "cell_type": "markdown",
   "id": "ba912adb-be23-47e9-b233-d0f108cc08c5",
   "metadata": {},
   "source": [
    "### Seeing which model performs best \n",
    "(without hyperparameter tuning)"
   ]
  },
  {
   "cell_type": "code",
   "execution_count": 83,
   "id": "b334eafa-34fc-4656-9c6b-d86e8763ba49",
   "metadata": {},
   "outputs": [
    {
     "data": {
      "text/plain": [
       "ExtraTreesRegressor    50.419084\n",
       "XGB                    48.946293\n",
       "Lasso                  47.699124\n",
       "RandomForest           46.985486\n",
       "LinearRegression       44.459753\n",
       "Ridge                  44.433243\n",
       "LGBM                   43.977825\n",
       "dtype: float64"
      ]
     },
     "execution_count": 83,
     "metadata": {},
     "output_type": "execute_result"
    }
   ],
   "source": [
    "pd.concat(cv_score_list, axis = 0).sort_values(ascending = False)"
   ]
  },
  {
   "cell_type": "markdown",
   "id": "05598b01-216f-4875-b46e-71caf1b5b773",
   "metadata": {},
   "source": [
    "Looks like Extra Trees Regressor, XGB, Lasso and Random Forest performed best here"
   ]
  },
  {
   "cell_type": "markdown",
   "id": "f155d818-3b13-471d-b354-34326120123a",
   "metadata": {},
   "source": [
    "# Hyperparameter tuning"
   ]
  },
  {
   "cell_type": "markdown",
   "id": "3ed7fae5-7c89-4a50-9067-c02b34708d76",
   "metadata": {},
   "source": [
    "## XGBoost"
   ]
  },
  {
   "cell_type": "code",
   "execution_count": 84,
   "id": "6c508f17-50b6-4f30-9978-0f0c1f981433",
   "metadata": {},
   "outputs": [],
   "source": [
    "from scipy.stats import uniform, randint"
   ]
  },
  {
   "cell_type": "code",
   "execution_count": 85,
   "id": "403d4c89-98f5-4d08-8c34-94118a3f25c1",
   "metadata": {
    "collapsed": true,
    "jupyter": {
     "outputs_hidden": true
    },
    "tags": []
   },
   "outputs": [
    {
     "data": {
      "text/plain": [
       "{'objective': 'reg:squarederror',\n",
       " 'base_score': None,\n",
       " 'booster': None,\n",
       " 'callbacks': None,\n",
       " 'colsample_bylevel': None,\n",
       " 'colsample_bynode': None,\n",
       " 'colsample_bytree': None,\n",
       " 'early_stopping_rounds': None,\n",
       " 'enable_categorical': False,\n",
       " 'eval_metric': None,\n",
       " 'gamma': None,\n",
       " 'gpu_id': None,\n",
       " 'grow_policy': None,\n",
       " 'importance_type': None,\n",
       " 'interaction_constraints': None,\n",
       " 'learning_rate': None,\n",
       " 'max_bin': None,\n",
       " 'max_cat_to_onehot': None,\n",
       " 'max_delta_step': None,\n",
       " 'max_depth': None,\n",
       " 'max_leaves': None,\n",
       " 'min_child_weight': None,\n",
       " 'missing': nan,\n",
       " 'monotone_constraints': None,\n",
       " 'n_estimators': 100,\n",
       " 'n_jobs': None,\n",
       " 'num_parallel_tree': None,\n",
       " 'predictor': None,\n",
       " 'random_state': None,\n",
       " 'reg_alpha': None,\n",
       " 'reg_lambda': None,\n",
       " 'sampling_method': None,\n",
       " 'scale_pos_weight': None,\n",
       " 'subsample': None,\n",
       " 'tree_method': None,\n",
       " 'validate_parameters': None,\n",
       " 'verbosity': None}"
      ]
     },
     "execution_count": 85,
     "metadata": {},
     "output_type": "execute_result"
    }
   ],
   "source": [
    "XGBRegressor().get_params()"
   ]
  },
  {
   "cell_type": "code",
   "execution_count": 86,
   "id": "ddbfd2d0-f692-4afe-abbd-dd72efaef3c5",
   "metadata": {},
   "outputs": [],
   "source": [
    "param_grid_xgbr = {'gamma': [0,0.1,0.2,0.4,0.8,1.6,3.2,6.4,12.8,25.6,51.2,102.4, 200],\n",
    "              'learning_rate': [0.01, 0.03, 0.06, 0.1, 0.15, 0.2, 0.25, 0.300000012, 0.4, 0.5, 0.6, 0.7],\n",
    "              'max_depth': [5,6,7,8,9,10,11,12,13,14],\n",
    "              'n_estimators': [50,65,80,100,115,130,150],\n",
    "              'reg_alpha': [0,0.1,0.2,0.4,0.8,1.6,3.2,6.4,12.8,25.6,51.2,102.4,200],\n",
    "              'reg_lambda': [0,0.1,0.2,0.4,0.8,1.6,3.2,6.4,12.8,25.6,51.2,102.4,200],\n",
    "              'subsample': uniform(0.6, 0.4)}"
   ]
  },
  {
   "cell_type": "code",
   "execution_count": 87,
   "id": "31fcc07a-40da-41bb-97c7-26cc9909bc1c",
   "metadata": {},
   "outputs": [],
   "source": [
    "from sklearn.model_selection import RandomizedSearchCV"
   ]
  },
  {
   "cell_type": "code",
   "execution_count": 88,
   "id": "d2d7d8dd-1ced-4b45-8f08-a478b403f3f0",
   "metadata": {},
   "outputs": [],
   "source": [
    "xgbr_cv = RandomizedSearchCV(XGBRegressor(),\n",
    "                            param_distributions = param_grid_xgbr,\n",
    "                            n_jobs = -1)"
   ]
  },
  {
   "cell_type": "code",
   "execution_count": 89,
   "id": "b9301795-a874-4f25-a23f-2bf38d50ad87",
   "metadata": {},
   "outputs": [],
   "source": [
    "xgbr_model = xgbr_cv.fit(X_train, y_train)"
   ]
  },
  {
   "cell_type": "code",
   "execution_count": 90,
   "id": "6c2b1f2d-51c6-41cf-afc6-6b964f1b12b0",
   "metadata": {},
   "outputs": [],
   "source": [
    "xgbr_pred_test = xgbr_model.predict(X_test)"
   ]
  },
  {
   "cell_type": "code",
   "execution_count": 91,
   "id": "f50042e8-d494-4905-80b6-511e59abefa2",
   "metadata": {},
   "outputs": [],
   "source": [
    "from scipy.special import inv_boxcox"
   ]
  },
  {
   "cell_type": "markdown",
   "id": "cc34e610-ff14-405a-8a2f-9655c76e3203",
   "metadata": {},
   "source": [
    "### Necessary inversions from normalization"
   ]
  },
  {
   "cell_type": "code",
   "execution_count": 93,
   "id": "b21e4c6a-2d17-4b2c-80ca-2165c9ba20a9",
   "metadata": {},
   "outputs": [],
   "source": [
    "xgbr_pred_test_inverted = inv_boxcox(xgbr_pred_test, y_lam)"
   ]
  },
  {
   "cell_type": "code",
   "execution_count": 94,
   "id": "fdadc088-e6d0-4839-b4dc-e784dd690fb4",
   "metadata": {},
   "outputs": [],
   "source": [
    "y_test_inverted = inv_boxcox(y_test, y_lam)"
   ]
  },
  {
   "cell_type": "markdown",
   "id": "2264b93d-e8fb-4dea-b0fb-26e405f575e4",
   "metadata": {},
   "source": [
    "### Evaluation"
   ]
  },
  {
   "cell_type": "code",
   "execution_count": 96,
   "id": "e1565626-b39d-4a16-a31d-976737630260",
   "metadata": {},
   "outputs": [],
   "source": [
    "from sklearn.metrics import r2_score, mean_squared_error"
   ]
  },
  {
   "cell_type": "code",
   "execution_count": 99,
   "id": "c69a3941-42c3-434b-ab69-4246293364c2",
   "metadata": {},
   "outputs": [
    {
     "data": {
      "text/plain": [
       "0.5792154518232244"
      ]
     },
     "execution_count": 99,
     "metadata": {},
     "output_type": "execute_result"
    }
   ],
   "source": [
    "r2_score(y_test_inverted, xgbr_pred_test_inverted)"
   ]
  },
  {
   "cell_type": "code",
   "execution_count": 100,
   "id": "38b66108-40d1-456d-bf38-2552dc6b656a",
   "metadata": {},
   "outputs": [
    {
     "data": {
      "text/plain": [
       "array([3146.988 ,  802.9281, 3408.341 , ..., 1382.0583, 1818.6284,\n",
       "       3376.8972], dtype=float32)"
      ]
     },
     "execution_count": 100,
     "metadata": {},
     "output_type": "execute_result"
    }
   ],
   "source": [
    "xgbr_pred_test_inverted"
   ]
  },
  {
   "cell_type": "code",
   "execution_count": 101,
   "id": "9700bef5-b8aa-4c88-aa0a-67650e189887",
   "metadata": {},
   "outputs": [
    {
     "data": {
      "text/plain": [
       "array([5287.7836,  619.194 , 3060.0168, ...,  852.224 , 1127.8652,\n",
       "       4098.6648])"
      ]
     },
     "execution_count": 101,
     "metadata": {},
     "output_type": "execute_result"
    }
   ],
   "source": [
    "y_test_inverted"
   ]
  },
  {
   "cell_type": "code",
   "execution_count": 102,
   "id": "eb62d753-cdd7-432d-9461-f5e6b00f6c28",
   "metadata": {},
   "outputs": [],
   "source": [
    "y_train_inverted = inv_boxcox(y_train, y_lam)"
   ]
  },
  {
   "cell_type": "code",
   "execution_count": 103,
   "id": "0c8aa986-493e-4d77-ba7c-cc27b3d35fb2",
   "metadata": {},
   "outputs": [],
   "source": [
    "xgbr_pred_train = xgbr_model.predict(X_train)"
   ]
  },
  {
   "cell_type": "code",
   "execution_count": 104,
   "id": "5d5efa3d-f689-4c1f-ba52-07724fc47020",
   "metadata": {},
   "outputs": [],
   "source": [
    "xgbr_pred_train_inverted = inv_boxcox(xgbr_pred_train, y_lam)"
   ]
  },
  {
   "cell_type": "code",
   "execution_count": 106,
   "id": "6aefe519-afe4-40ce-814f-952b8cefa5c9",
   "metadata": {},
   "outputs": [
    {
     "data": {
      "text/plain": [
       "908202.6828248684"
      ]
     },
     "execution_count": 106,
     "metadata": {},
     "output_type": "execute_result"
    }
   ],
   "source": [
    "mean_squared_error(y_train_inverted, xgbr_pred_train_inverted)"
   ]
  },
  {
   "cell_type": "code",
   "execution_count": 109,
   "id": "ff7829ab-8fc3-45b6-99f9-92999b6ea087",
   "metadata": {},
   "outputs": [
    {
     "data": {
      "text/plain": [
       "1308559.0435816566"
      ]
     },
     "execution_count": 109,
     "metadata": {},
     "output_type": "execute_result"
    }
   ],
   "source": [
    "mean_squared_error(y_test_inverted, xgbr_pred_test_inverted)"
   ]
  },
  {
   "cell_type": "code",
   "execution_count": 110,
   "id": "0f0a3ce7-8bd5-4685-9165-903822707f6c",
   "metadata": {},
   "outputs": [],
   "source": [
    "from sklearn.metrics import mean_absolute_error"
   ]
  },
  {
   "cell_type": "code",
   "execution_count": 111,
   "id": "43fd7122-e17f-45fd-9013-ff635a23b44f",
   "metadata": {},
   "outputs": [
    {
     "data": {
      "text/plain": [
       "786.4858695665323"
      ]
     },
     "execution_count": 111,
     "metadata": {},
     "output_type": "execute_result"
    }
   ],
   "source": [
    "mean_absolute_error(y_test_inverted, xgbr_pred_test_inverted)"
   ]
  },
  {
   "cell_type": "markdown",
   "id": "f0ee9f63-98d5-4d48-a971-fd22955192f0",
   "metadata": {},
   "source": [
    "# Time for some epic gradient boosting vs random forest"
   ]
  },
  {
   "cell_type": "code",
   "execution_count": 113,
   "id": "347bc96f-025e-4bf9-9dad-9f1bc4f05111",
   "metadata": {},
   "outputs": [
    {
     "name": "stderr",
     "output_type": "stream",
     "text": [
      "/home/apricot/anaconda3/lib/python3.9/site-packages/sklearn/ensemble/_forest.py:560: UserWarning: Some inputs do not have OOB scores. This probably means too few trees were used to compute any reliable OOB estimates.\n",
      "  warn(\n",
      "/home/apricot/anaconda3/lib/python3.9/site-packages/sklearn/ensemble/_forest.py:560: UserWarning: Some inputs do not have OOB scores. This probably means too few trees were used to compute any reliable OOB estimates.\n",
      "  warn(\n"
     ]
    },
    {
     "data": {
      "text/html": [
       "<div>\n",
       "<style scoped>\n",
       "    .dataframe tbody tr th:only-of-type {\n",
       "        vertical-align: middle;\n",
       "    }\n",
       "\n",
       "    .dataframe tbody tr th {\n",
       "        vertical-align: top;\n",
       "    }\n",
       "\n",
       "    .dataframe thead th {\n",
       "        text-align: right;\n",
       "    }\n",
       "</style>\n",
       "<table border=\"1\" class=\"dataframe\">\n",
       "  <thead>\n",
       "    <tr style=\"text-align: right;\">\n",
       "      <th></th>\n",
       "      <th>oob</th>\n",
       "    </tr>\n",
       "    <tr>\n",
       "      <th>n_trees</th>\n",
       "      <th></th>\n",
       "    </tr>\n",
       "  </thead>\n",
       "  <tbody>\n",
       "    <tr>\n",
       "      <th>15.0</th>\n",
       "      <td>0.410385</td>\n",
       "    </tr>\n",
       "    <tr>\n",
       "      <th>20.0</th>\n",
       "      <td>0.380695</td>\n",
       "    </tr>\n",
       "    <tr>\n",
       "      <th>30.0</th>\n",
       "      <td>0.365299</td>\n",
       "    </tr>\n",
       "    <tr>\n",
       "      <th>40.0</th>\n",
       "      <td>0.357869</td>\n",
       "    </tr>\n",
       "    <tr>\n",
       "      <th>50.0</th>\n",
       "      <td>0.351571</td>\n",
       "    </tr>\n",
       "    <tr>\n",
       "      <th>100.0</th>\n",
       "      <td>0.343887</td>\n",
       "    </tr>\n",
       "    <tr>\n",
       "      <th>150.0</th>\n",
       "      <td>0.341343</td>\n",
       "    </tr>\n",
       "    <tr>\n",
       "      <th>200.0</th>\n",
       "      <td>0.340428</td>\n",
       "    </tr>\n",
       "    <tr>\n",
       "      <th>300.0</th>\n",
       "      <td>0.339120</td>\n",
       "    </tr>\n",
       "    <tr>\n",
       "      <th>400.0</th>\n",
       "      <td>0.338671</td>\n",
       "    </tr>\n",
       "  </tbody>\n",
       "</table>\n",
       "</div>"
      ],
      "text/plain": [
       "              oob\n",
       "n_trees          \n",
       "15.0     0.410385\n",
       "20.0     0.380695\n",
       "30.0     0.365299\n",
       "40.0     0.357869\n",
       "50.0     0.351571\n",
       "100.0    0.343887\n",
       "150.0    0.341343\n",
       "200.0    0.340428\n",
       "300.0    0.339120\n",
       "400.0    0.338671"
      ]
     },
     "execution_count": 113,
     "metadata": {},
     "output_type": "execute_result"
    }
   ],
   "source": [
    "RF = RandomForestRegressor(oob_score=True, \n",
    "                            warm_start=True,\n",
    "                            n_jobs=-1)\n",
    "\n",
    "oob_list = []\n",
    "\n",
    "for n_trees in [15, 20, 30, 40, 50, 100, 150, 200, 300, 400]:\n",
    "    RF.set_params(n_estimators=n_trees)\n",
    "    RF.fit(X_train, y_train)\n",
    "    oob_error = 1 - RF.oob_score_\n",
    "    oob_list.append(pd.Series({'n_trees': n_trees, 'oob': oob_error}))\n",
    "\n",
    "rf_oob_df = pd.concat(oob_list, axis=1).T.set_index('n_trees')\n",
    "\n",
    "rf_oob_df"
   ]
  },
  {
   "cell_type": "code",
   "execution_count": 114,
   "id": "3bcf9f96-944b-44a4-b6c6-8c65f9b91f3e",
   "metadata": {},
   "outputs": [
    {
     "data": {
      "image/png": "[encoded data removed]",
      "text/plain": [
       "<Figure size 432x288 with 1 Axes>"
      ]
     },
     "metadata": {
      "needs_background": "light"
     },
     "output_type": "display_data"
    },
    {
     "data": {
      "image/png": "[encoded data removed]",
      "text/plain": [
       "<Figure size 1080x504 with 1 Axes>"
      ]
     },
     "metadata": {
      "needs_background": "light"
     },
     "output_type": "display_data"
    }
   ],
   "source": [
    "fig, ax = plt.subplots()\n",
    "ax = rf_oob_df.plot(legend=False,\n",
    "                    marker='o',\n",
    "                    figsize=(15, 7),\n",
    "                    linewidth = 3)"
   ]
  },
  {
   "cell_type": "code",
   "execution_count": 115,
   "id": "3e7808ec-8dbc-4b1a-9a4e-ea84e9121ba8",
   "metadata": {},
   "outputs": [
    {
     "name": "stderr",
     "output_type": "stream",
     "text": [
      "/home/apricot/anaconda3/lib/python3.9/site-packages/sklearn/ensemble/_forest.py:560: UserWarning: Some inputs do not have OOB scores. This probably means too few trees were used to compute any reliable OOB estimates.\n",
      "  warn(\n",
      "/home/apricot/anaconda3/lib/python3.9/site-packages/sklearn/ensemble/_forest.py:560: UserWarning: Some inputs do not have OOB scores. This probably means too few trees were used to compute any reliable OOB estimates.\n",
      "  warn(\n"
     ]
    },
    {
     "data": {
      "text/html": [
       "<div>\n",
       "<style scoped>\n",
       "    .dataframe tbody tr th:only-of-type {\n",
       "        vertical-align: middle;\n",
       "    }\n",
       "\n",
       "    .dataframe tbody tr th {\n",
       "        vertical-align: top;\n",
       "    }\n",
       "\n",
       "    .dataframe thead th {\n",
       "        text-align: right;\n",
       "    }\n",
       "</style>\n",
       "<table border=\"1\" class=\"dataframe\">\n",
       "  <thead>\n",
       "    <tr style=\"text-align: right;\">\n",
       "      <th></th>\n",
       "      <th>oob</th>\n",
       "    </tr>\n",
       "    <tr>\n",
       "      <th>n_trees</th>\n",
       "      <th></th>\n",
       "    </tr>\n",
       "  </thead>\n",
       "  <tbody>\n",
       "    <tr>\n",
       "      <th>15.0</th>\n",
       "      <td>0.411706</td>\n",
       "    </tr>\n",
       "    <tr>\n",
       "      <th>20.0</th>\n",
       "      <td>0.382113</td>\n",
       "    </tr>\n",
       "    <tr>\n",
       "      <th>30.0</th>\n",
       "      <td>0.364147</td>\n",
       "    </tr>\n",
       "    <tr>\n",
       "      <th>40.0</th>\n",
       "      <td>0.354286</td>\n",
       "    </tr>\n",
       "    <tr>\n",
       "      <th>50.0</th>\n",
       "      <td>0.350417</td>\n",
       "    </tr>\n",
       "    <tr>\n",
       "      <th>100.0</th>\n",
       "      <td>0.340746</td>\n",
       "    </tr>\n",
       "    <tr>\n",
       "      <th>150.0</th>\n",
       "      <td>0.337704</td>\n",
       "    </tr>\n",
       "    <tr>\n",
       "      <th>200.0</th>\n",
       "      <td>0.336403</td>\n",
       "    </tr>\n",
       "    <tr>\n",
       "      <th>300.0</th>\n",
       "      <td>0.335370</td>\n",
       "    </tr>\n",
       "    <tr>\n",
       "      <th>400.0</th>\n",
       "      <td>0.334554</td>\n",
       "    </tr>\n",
       "  </tbody>\n",
       "</table>\n",
       "</div>"
      ],
      "text/plain": [
       "              oob\n",
       "n_trees          \n",
       "15.0     0.411706\n",
       "20.0     0.382113\n",
       "30.0     0.364147\n",
       "40.0     0.354286\n",
       "50.0     0.350417\n",
       "100.0    0.340746\n",
       "150.0    0.337704\n",
       "200.0    0.336403\n",
       "300.0    0.335370\n",
       "400.0    0.334554"
      ]
     },
     "execution_count": 115,
     "metadata": {},
     "output_type": "execute_result"
    }
   ],
   "source": [
    "EF = ExtraTreesRegressor(oob_score=True, \n",
    "                          warm_start=True,\n",
    "                          bootstrap=True,\n",
    "                          n_jobs=-1)\n",
    "\n",
    "oob_list = list()\n",
    "\n",
    "for n_trees in [15, 20, 30, 40, 50, 100, 150, 200, 300, 400]:\n",
    "    EF.set_params(n_estimators=n_trees)\n",
    "    EF.fit(X_train, y_train)\n",
    "    oob_error = 1 - EF.oob_score_\n",
    "    oob_list.append(pd.Series({'n_trees': n_trees, 'oob': oob_error}))\n",
    "\n",
    "et_oob_df = pd.concat(oob_list, axis=1).T.set_index('n_trees')\n",
    "\n",
    "et_oob_df"
   ]
  },
  {
   "cell_type": "code",
   "execution_count": 116,
   "id": "15606d14-1352-4e5b-a00c-a60d494a0c98",
   "metadata": {},
   "outputs": [
    {
     "data": {
      "text/html": [
       "<div>\n",
       "<style scoped>\n",
       "    .dataframe tbody tr th:only-of-type {\n",
       "        vertical-align: middle;\n",
       "    }\n",
       "\n",
       "    .dataframe tbody tr th {\n",
       "        vertical-align: top;\n",
       "    }\n",
       "\n",
       "    .dataframe thead th {\n",
       "        text-align: right;\n",
       "    }\n",
       "</style>\n",
       "<table border=\"1\" class=\"dataframe\">\n",
       "  <thead>\n",
       "    <tr style=\"text-align: right;\">\n",
       "      <th></th>\n",
       "      <th>RandomForest</th>\n",
       "      <th>ExtraTrees</th>\n",
       "    </tr>\n",
       "    <tr>\n",
       "      <th>n_trees</th>\n",
       "      <th></th>\n",
       "      <th></th>\n",
       "    </tr>\n",
       "  </thead>\n",
       "  <tbody>\n",
       "    <tr>\n",
       "      <th>15.0</th>\n",
       "      <td>0.410385</td>\n",
       "      <td>0.411706</td>\n",
       "    </tr>\n",
       "    <tr>\n",
       "      <th>20.0</th>\n",
       "      <td>0.380695</td>\n",
       "      <td>0.382113</td>\n",
       "    </tr>\n",
       "    <tr>\n",
       "      <th>30.0</th>\n",
       "      <td>0.365299</td>\n",
       "      <td>0.364147</td>\n",
       "    </tr>\n",
       "    <tr>\n",
       "      <th>40.0</th>\n",
       "      <td>0.357869</td>\n",
       "      <td>0.354286</td>\n",
       "    </tr>\n",
       "    <tr>\n",
       "      <th>50.0</th>\n",
       "      <td>0.351571</td>\n",
       "      <td>0.350417</td>\n",
       "    </tr>\n",
       "    <tr>\n",
       "      <th>100.0</th>\n",
       "      <td>0.343887</td>\n",
       "      <td>0.340746</td>\n",
       "    </tr>\n",
       "    <tr>\n",
       "      <th>150.0</th>\n",
       "      <td>0.341343</td>\n",
       "      <td>0.337704</td>\n",
       "    </tr>\n",
       "    <tr>\n",
       "      <th>200.0</th>\n",
       "      <td>0.340428</td>\n",
       "      <td>0.336403</td>\n",
       "    </tr>\n",
       "    <tr>\n",
       "      <th>300.0</th>\n",
       "      <td>0.339120</td>\n",
       "      <td>0.335370</td>\n",
       "    </tr>\n",
       "    <tr>\n",
       "      <th>400.0</th>\n",
       "      <td>0.338671</td>\n",
       "      <td>0.334554</td>\n",
       "    </tr>\n",
       "  </tbody>\n",
       "</table>\n",
       "</div>"
      ],
      "text/plain": [
       "         RandomForest  ExtraTrees\n",
       "n_trees                          \n",
       "15.0         0.410385    0.411706\n",
       "20.0         0.380695    0.382113\n",
       "30.0         0.365299    0.364147\n",
       "40.0         0.357869    0.354286\n",
       "50.0         0.351571    0.350417\n",
       "100.0        0.343887    0.340746\n",
       "150.0        0.341343    0.337704\n",
       "200.0        0.340428    0.336403\n",
       "300.0        0.339120    0.335370\n",
       "400.0        0.338671    0.334554"
      ]
     },
     "execution_count": 116,
     "metadata": {},
     "output_type": "execute_result"
    }
   ],
   "source": [
    "oob_df = pd.concat([rf_oob_df.rename(columns={'oob':'RandomForest'}),\n",
    "                    et_oob_df.rename(columns={'oob':'ExtraTrees'})], axis=1)\n",
    "\n",
    "oob_df"
   ]
  },
  {
   "cell_type": "code",
   "execution_count": 117,
   "id": "4125f3f8-5c61-491a-ad3f-fc40d55074b0",
   "metadata": {},
   "outputs": [
    {
     "data": {
      "text/plain": [
       "<AxesSubplot:xlabel='n_trees'>"
      ]
     },
     "execution_count": 117,
     "metadata": {},
     "output_type": "execute_result"
    },
    {
     "data": {
      "image/png": "[encoded data removed]",
      "text/plain": [
       "<Figure size 1080x504 with 1 Axes>"
      ]
     },
     "metadata": {
      "needs_background": "light"
     },
     "output_type": "display_data"
    }
   ],
   "source": [
    "oob_df.plot(figsize = (15,7),\n",
    "           linewidth = 3,\n",
    "           legend = True,\n",
    "           marker = 'o')"
   ]
  },
  {
   "cell_type": "markdown",
   "id": "78e147a5-13d0-4353-8420-745fdd5e79fc",
   "metadata": {},
   "source": [
    "Conclusion:\n",
    "\n",
    "Extra Trees Regressor is working better than random forest. So we use extra trees classiifer"
   ]
  },
  {
   "cell_type": "code",
   "execution_count": 118,
   "id": "6d419a99-cf06-49d6-8470-4af6541a0a1b",
   "metadata": {},
   "outputs": [],
   "source": [
    "n_trees = [100,150,200,250,300,400]"
   ]
  },
  {
   "cell_type": "code",
   "execution_count": 146,
   "id": "b316ec24-d227-4592-8fba-4543471d4540",
   "metadata": {},
   "outputs": [],
   "source": [
    "# Number of trees in random forest\n",
    "n_estimators = [int(x) for x in np.linspace(start = 200, stop = 2000, num = 10)]\n",
    "# Number of features to consider at every split\n",
    "max_features = ['auto', 'sqrt']\n",
    "# Maximum number of levels in tree\n",
    "max_depth = [int(x) for x in np.linspace(10, 110, num = 11)]\n",
    "max_depth.append(None)\n",
    "# Minimum number of samples required to split a node\n",
    "min_samples_split = [2, 5, 10]\n",
    "# Minimum number of samples required at each leaf node\n",
    "min_samples_leaf = [1, 2, 4]\n",
    "# Method of selecting samples for training each tree\n",
    "bootstrap = [True, False]# Create the random grid\n",
    "param_grid_etr = {'n_estimators': n_estimators,\n",
    "               'max_features': max_features,\n",
    "               'max_depth': max_depth,\n",
    "               'min_samples_split': min_samples_split,\n",
    "               'min_samples_leaf': min_samples_leaf,\n",
    "               'bootstrap': bootstrap}"
   ]
  },
  {
   "cell_type": "code",
   "execution_count": 120,
   "id": "aa8cd2e9-44de-467f-8e17-3d9f8c7a88fa",
   "metadata": {},
   "outputs": [],
   "source": [
    "param_grid_etr = {\n",
    "'n_estimators': n_trees,\n",
    "'max_samples' : np.linspace(0.0,1.0,10),\n",
    "'min_samples_split' : np.linspace(0.0,1.0,10),\n",
    "'min_samples_leaf' : np.linspace(0.0,1.0,10),\n",
    "}"
   ]
  },
  {
   "cell_type": "code",
   "execution_count": 147,
   "id": "d2be2f89-3f05-48ff-9104-c5954986cdd5",
   "metadata": {},
   "outputs": [],
   "source": [
    "etr_cv = RandomizedSearchCV(ExtraTreesRegressor(bootstrap = True),\n",
    "                           param_distributions = param_grid_etc,\n",
    "                           cv = 5,\n",
    "                           n_jobs = -1)"
   ]
  },
  {
   "cell_type": "code",
   "execution_count": 148,
   "id": "2f67dfce-6f5d-478f-b7f8-a4a82a884eb4",
   "metadata": {
    "collapsed": true,
    "jupyter": {
     "outputs_hidden": true
    },
    "tags": []
   },
   "outputs": [
    {
     "name": "stderr",
     "output_type": "stream",
     "text": [
      "/home/apricot/anaconda3/lib/python3.9/site-packages/sklearn/model_selection/_validation.py:372: FitFailedWarning: \n",
      "45 fits failed out of a total of 50.\n",
      "The score on these train-test partitions for these parameters will be set to nan.\n",
      "If these failures are not expected, you can try to debug them by setting error_score='raise'.\n",
      "\n",
      "Below are more details about the failures:\n",
      "--------------------------------------------------------------------------------\n",
      "10 fits failed with the following error:\n",
      "Traceback (most recent call last):\n",
      "  File \"/home/apricot/anaconda3/lib/python3.9/site-packages/sklearn/model_selection/_validation.py\", line 680, in _fit_and_score\n",
      "    estimator.fit(X_train, y_train, **fit_params)\n",
      "  File \"/home/apricot/anaconda3/lib/python3.9/site-packages/sklearn/ensemble/_forest.py\", line 450, in fit\n",
      "    trees = Parallel(\n",
      "  File \"/home/apricot/anaconda3/lib/python3.9/site-packages/joblib/parallel.py\", line 1043, in __call__\n",
      "    if self.dispatch_one_batch(iterator):\n",
      "  File \"/home/apricot/anaconda3/lib/python3.9/site-packages/joblib/parallel.py\", line 861, in dispatch_one_batch\n",
      "    self._dispatch(tasks)\n",
      "  File \"/home/apricot/anaconda3/lib/python3.9/site-packages/joblib/parallel.py\", line 779, in _dispatch\n",
      "    job = self._backend.apply_async(batch, callback=cb)\n",
      "  File \"/home/apricot/anaconda3/lib/python3.9/site-packages/joblib/_parallel_backends.py\", line 208, in apply_async\n",
      "    result = ImmediateResult(func)\n",
      "  File \"/home/apricot/anaconda3/lib/python3.9/site-packages/joblib/_parallel_backends.py\", line 572, in __init__\n",
      "    self.results = batch()\n",
      "  File \"/home/apricot/anaconda3/lib/python3.9/site-packages/joblib/parallel.py\", line 262, in __call__\n",
      "    return [func(*args, **kwargs)\n",
      "  File \"/home/apricot/anaconda3/lib/python3.9/site-packages/joblib/parallel.py\", line 262, in <listcomp>\n",
      "    return [func(*args, **kwargs)\n",
      "  File \"/home/apricot/anaconda3/lib/python3.9/site-packages/sklearn/utils/fixes.py\", line 216, in __call__\n",
      "    return self.function(*args, **kwargs)\n",
      "  File \"/home/apricot/anaconda3/lib/python3.9/site-packages/sklearn/ensemble/_forest.py\", line 185, in _parallel_build_trees\n",
      "    tree.fit(X, y, sample_weight=curr_sample_weight, check_input=False)\n",
      "  File \"/home/apricot/anaconda3/lib/python3.9/site-packages/sklearn/tree/_classes.py\", line 1315, in fit\n",
      "    super().fit(\n",
      "  File \"/home/apricot/anaconda3/lib/python3.9/site-packages/sklearn/tree/_classes.py\", line 242, in fit\n",
      "    raise ValueError(\n",
      "ValueError: min_samples_leaf must be at least 1 or in (0, 0.5], got 0.6666666666666666\n",
      "\n",
      "--------------------------------------------------------------------------------\n",
      "5 fits failed with the following error:\n",
      "Traceback (most recent call last):\n",
      "  File \"/home/apricot/anaconda3/lib/python3.9/site-packages/sklearn/model_selection/_validation.py\", line 680, in _fit_and_score\n",
      "    estimator.fit(X_train, y_train, **fit_params)\n",
      "  File \"/home/apricot/anaconda3/lib/python3.9/site-packages/sklearn/ensemble/_forest.py\", line 450, in fit\n",
      "    trees = Parallel(\n",
      "  File \"/home/apricot/anaconda3/lib/python3.9/site-packages/joblib/parallel.py\", line 1043, in __call__\n",
      "    if self.dispatch_one_batch(iterator):\n",
      "  File \"/home/apricot/anaconda3/lib/python3.9/site-packages/joblib/parallel.py\", line 861, in dispatch_one_batch\n",
      "    self._dispatch(tasks)\n",
      "  File \"/home/apricot/anaconda3/lib/python3.9/site-packages/joblib/parallel.py\", line 779, in _dispatch\n",
      "    job = self._backend.apply_async(batch, callback=cb)\n",
      "  File \"/home/apricot/anaconda3/lib/python3.9/site-packages/joblib/_parallel_backends.py\", line 208, in apply_async\n",
      "    result = ImmediateResult(func)\n",
      "  File \"/home/apricot/anaconda3/lib/python3.9/site-packages/joblib/_parallel_backends.py\", line 572, in __init__\n",
      "    self.results = batch()\n",
      "  File \"/home/apricot/anaconda3/lib/python3.9/site-packages/joblib/parallel.py\", line 262, in __call__\n",
      "    return [func(*args, **kwargs)\n",
      "  File \"/home/apricot/anaconda3/lib/python3.9/site-packages/joblib/parallel.py\", line 262, in <listcomp>\n",
      "    return [func(*args, **kwargs)\n",
      "  File \"/home/apricot/anaconda3/lib/python3.9/site-packages/sklearn/utils/fixes.py\", line 216, in __call__\n",
      "    return self.function(*args, **kwargs)\n",
      "  File \"/home/apricot/anaconda3/lib/python3.9/site-packages/sklearn/ensemble/_forest.py\", line 185, in _parallel_build_trees\n",
      "    tree.fit(X, y, sample_weight=curr_sample_weight, check_input=False)\n",
      "  File \"/home/apricot/anaconda3/lib/python3.9/site-packages/sklearn/tree/_classes.py\", line 1315, in fit\n",
      "    super().fit(\n",
      "  File \"/home/apricot/anaconda3/lib/python3.9/site-packages/sklearn/tree/_classes.py\", line 242, in fit\n",
      "    raise ValueError(\n",
      "ValueError: min_samples_leaf must be at least 1 or in (0, 0.5], got 0.7777777777777777\n",
      "\n",
      "--------------------------------------------------------------------------------\n",
      "10 fits failed with the following error:\n",
      "Traceback (most recent call last):\n",
      "  File \"/home/apricot/anaconda3/lib/python3.9/site-packages/sklearn/model_selection/_validation.py\", line 680, in _fit_and_score\n",
      "    estimator.fit(X_train, y_train, **fit_params)\n",
      "  File \"/home/apricot/anaconda3/lib/python3.9/site-packages/sklearn/ensemble/_forest.py\", line 450, in fit\n",
      "    trees = Parallel(\n",
      "  File \"/home/apricot/anaconda3/lib/python3.9/site-packages/joblib/parallel.py\", line 1043, in __call__\n",
      "    if self.dispatch_one_batch(iterator):\n",
      "  File \"/home/apricot/anaconda3/lib/python3.9/site-packages/joblib/parallel.py\", line 861, in dispatch_one_batch\n",
      "    self._dispatch(tasks)\n",
      "  File \"/home/apricot/anaconda3/lib/python3.9/site-packages/joblib/parallel.py\", line 779, in _dispatch\n",
      "    job = self._backend.apply_async(batch, callback=cb)\n",
      "  File \"/home/apricot/anaconda3/lib/python3.9/site-packages/joblib/_parallel_backends.py\", line 208, in apply_async\n",
      "    result = ImmediateResult(func)\n",
      "  File \"/home/apricot/anaconda3/lib/python3.9/site-packages/joblib/_parallel_backends.py\", line 572, in __init__\n",
      "    self.results = batch()\n",
      "  File \"/home/apricot/anaconda3/lib/python3.9/site-packages/joblib/parallel.py\", line 262, in __call__\n",
      "    return [func(*args, **kwargs)\n",
      "  File \"/home/apricot/anaconda3/lib/python3.9/site-packages/joblib/parallel.py\", line 262, in <listcomp>\n",
      "    return [func(*args, **kwargs)\n",
      "  File \"/home/apricot/anaconda3/lib/python3.9/site-packages/sklearn/utils/fixes.py\", line 216, in __call__\n",
      "    return self.function(*args, **kwargs)\n",
      "  File \"/home/apricot/anaconda3/lib/python3.9/site-packages/sklearn/ensemble/_forest.py\", line 185, in _parallel_build_trees\n",
      "    tree.fit(X, y, sample_weight=curr_sample_weight, check_input=False)\n",
      "  File \"/home/apricot/anaconda3/lib/python3.9/site-packages/sklearn/tree/_classes.py\", line 1315, in fit\n",
      "    super().fit(\n",
      "  File \"/home/apricot/anaconda3/lib/python3.9/site-packages/sklearn/tree/_classes.py\", line 242, in fit\n",
      "    raise ValueError(\n",
      "ValueError: min_samples_leaf must be at least 1 or in (0, 0.5], got 1.0\n",
      "\n",
      "--------------------------------------------------------------------------------\n",
      "5 fits failed with the following error:\n",
      "Traceback (most recent call last):\n",
      "  File \"/home/apricot/anaconda3/lib/python3.9/site-packages/sklearn/model_selection/_validation.py\", line 680, in _fit_and_score\n",
      "    estimator.fit(X_train, y_train, **fit_params)\n",
      "  File \"/home/apricot/anaconda3/lib/python3.9/site-packages/sklearn/ensemble/_forest.py\", line 450, in fit\n",
      "    trees = Parallel(\n",
      "  File \"/home/apricot/anaconda3/lib/python3.9/site-packages/joblib/parallel.py\", line 1043, in __call__\n",
      "    if self.dispatch_one_batch(iterator):\n",
      "  File \"/home/apricot/anaconda3/lib/python3.9/site-packages/joblib/parallel.py\", line 861, in dispatch_one_batch\n",
      "    self._dispatch(tasks)\n",
      "  File \"/home/apricot/anaconda3/lib/python3.9/site-packages/joblib/parallel.py\", line 779, in _dispatch\n",
      "    job = self._backend.apply_async(batch, callback=cb)\n",
      "  File \"/home/apricot/anaconda3/lib/python3.9/site-packages/joblib/_parallel_backends.py\", line 208, in apply_async\n",
      "    result = ImmediateResult(func)\n",
      "  File \"/home/apricot/anaconda3/lib/python3.9/site-packages/joblib/_parallel_backends.py\", line 572, in __init__\n",
      "    self.results = batch()\n",
      "  File \"/home/apricot/anaconda3/lib/python3.9/site-packages/joblib/parallel.py\", line 262, in __call__\n",
      "    return [func(*args, **kwargs)\n",
      "  File \"/home/apricot/anaconda3/lib/python3.9/site-packages/joblib/parallel.py\", line 262, in <listcomp>\n",
      "    return [func(*args, **kwargs)\n",
      "  File \"/home/apricot/anaconda3/lib/python3.9/site-packages/sklearn/utils/fixes.py\", line 216, in __call__\n",
      "    return self.function(*args, **kwargs)\n",
      "  File \"/home/apricot/anaconda3/lib/python3.9/site-packages/sklearn/ensemble/_forest.py\", line 185, in _parallel_build_trees\n",
      "    tree.fit(X, y, sample_weight=curr_sample_weight, check_input=False)\n",
      "  File \"/home/apricot/anaconda3/lib/python3.9/site-packages/sklearn/tree/_classes.py\", line 1315, in fit\n",
      "    super().fit(\n",
      "  File \"/home/apricot/anaconda3/lib/python3.9/site-packages/sklearn/tree/_classes.py\", line 242, in fit\n",
      "    raise ValueError(\n",
      "ValueError: min_samples_leaf must be at least 1 or in (0, 0.5], got 0.5555555555555556\n",
      "\n",
      "--------------------------------------------------------------------------------\n",
      "5 fits failed with the following error:\n",
      "Traceback (most recent call last):\n",
      "  File \"/home/apricot/anaconda3/lib/python3.9/site-packages/sklearn/model_selection/_validation.py\", line 680, in _fit_and_score\n",
      "    estimator.fit(X_train, y_train, **fit_params)\n",
      "  File \"/home/apricot/anaconda3/lib/python3.9/site-packages/sklearn/ensemble/_forest.py\", line 450, in fit\n",
      "    trees = Parallel(\n",
      "  File \"/home/apricot/anaconda3/lib/python3.9/site-packages/joblib/parallel.py\", line 1043, in __call__\n",
      "    if self.dispatch_one_batch(iterator):\n",
      "  File \"/home/apricot/anaconda3/lib/python3.9/site-packages/joblib/parallel.py\", line 861, in dispatch_one_batch\n",
      "    self._dispatch(tasks)\n",
      "  File \"/home/apricot/anaconda3/lib/python3.9/site-packages/joblib/parallel.py\", line 779, in _dispatch\n",
      "    job = self._backend.apply_async(batch, callback=cb)\n",
      "  File \"/home/apricot/anaconda3/lib/python3.9/site-packages/joblib/_parallel_backends.py\", line 208, in apply_async\n",
      "    result = ImmediateResult(func)\n",
      "  File \"/home/apricot/anaconda3/lib/python3.9/site-packages/joblib/_parallel_backends.py\", line 572, in __init__\n",
      "    self.results = batch()\n",
      "  File \"/home/apricot/anaconda3/lib/python3.9/site-packages/joblib/parallel.py\", line 262, in __call__\n",
      "    return [func(*args, **kwargs)\n",
      "  File \"/home/apricot/anaconda3/lib/python3.9/site-packages/joblib/parallel.py\", line 262, in <listcomp>\n",
      "    return [func(*args, **kwargs)\n",
      "  File \"/home/apricot/anaconda3/lib/python3.9/site-packages/sklearn/utils/fixes.py\", line 216, in __call__\n",
      "    return self.function(*args, **kwargs)\n",
      "  File \"/home/apricot/anaconda3/lib/python3.9/site-packages/sklearn/ensemble/_forest.py\", line 185, in _parallel_build_trees\n",
      "    tree.fit(X, y, sample_weight=curr_sample_weight, check_input=False)\n",
      "  File \"/home/apricot/anaconda3/lib/python3.9/site-packages/sklearn/tree/_classes.py\", line 1315, in fit\n",
      "    super().fit(\n",
      "  File \"/home/apricot/anaconda3/lib/python3.9/site-packages/sklearn/tree/_classes.py\", line 242, in fit\n",
      "    raise ValueError(\n",
      "ValueError: min_samples_leaf must be at least 1 or in (0, 0.5], got 0.0\n",
      "\n",
      "--------------------------------------------------------------------------------\n",
      "10 fits failed with the following error:\n",
      "Traceback (most recent call last):\n",
      "  File \"/home/apricot/anaconda3/lib/python3.9/site-packages/sklearn/model_selection/_validation.py\", line 680, in _fit_and_score\n",
      "    estimator.fit(X_train, y_train, **fit_params)\n",
      "  File \"/home/apricot/anaconda3/lib/python3.9/site-packages/sklearn/ensemble/_forest.py\", line 385, in fit\n",
      "    n_samples_bootstrap = _get_n_samples_bootstrap(\n",
      "  File \"/home/apricot/anaconda3/lib/python3.9/site-packages/sklearn/ensemble/_forest.py\", line 117, in _get_n_samples_bootstrap\n",
      "    raise ValueError(msg.format(max_samples))\n",
      "ValueError: `max_samples` must be in range (0.0, 1.0] but got value 0.0\n",
      "\n",
      "  warnings.warn(some_fits_failed_message, FitFailedWarning)\n",
      "/home/apricot/anaconda3/lib/python3.9/site-packages/sklearn/model_selection/_search.py:969: UserWarning: One or more of the test scores are non-finite: [        nan         nan         nan -0.00069947         nan         nan\n",
      "         nan         nan         nan         nan]\n",
      "  warnings.warn(\n"
     ]
    }
   ],
   "source": [
    "etr_model = etr_cv.fit(X_train, y_train)"
   ]
  },
  {
   "cell_type": "code",
   "execution_count": 149,
   "id": "ef61d1b3-1bdb-47e1-b570-532b10c4c5f7",
   "metadata": {},
   "outputs": [
    {
     "data": {
      "text/plain": [
       "{'n_estimators': 200,\n",
       " 'min_samples_split': 0.6666666666666666,\n",
       " 'min_samples_leaf': 0.3333333333333333,\n",
       " 'max_samples': 0.7777777777777777}"
      ]
     },
     "execution_count": 149,
     "metadata": {},
     "output_type": "execute_result"
    }
   ],
   "source": [
    "etr_model.best_params_"
   ]
  },
  {
   "cell_type": "code",
   "execution_count": 150,
   "id": "11c1ab3b-7ab5-4b42-b256-da0749663f3b",
   "metadata": {},
   "outputs": [],
   "source": [
    "etr_pred_test = etr_model.predict(X_test)\n",
    "etr_pred_test_inverted = inv_boxcox(etr_pred_test, y_lam)"
   ]
  },
  {
   "cell_type": "code",
   "execution_count": 151,
   "id": "d44af16e-0b68-45a7-a7fe-0a055d90957d",
   "metadata": {},
   "outputs": [
    {
     "data": {
      "text/plain": [
       "-0.07485255098321852"
      ]
     },
     "execution_count": 151,
     "metadata": {},
     "output_type": "execute_result"
    }
   ],
   "source": [
    "r2_score(y_test_inverted, etr_pred_test_inverted)"
   ]
  },
  {
   "cell_type": "code",
   "execution_count": 138,
   "id": "0efb511e-1883-4224-8b62-3d7c1b4a0320",
   "metadata": {},
   "outputs": [
    {
     "data": {
      "text/plain": [
       "1364.9659966755446"
      ]
     },
     "execution_count": 138,
     "metadata": {},
     "output_type": "execute_result"
    }
   ],
   "source": [
    "mean_absolute_error(y_test_inverted, etr_pred_test_inverted)"
   ]
  },
  {
   "cell_type": "code",
   "execution_count": 132,
   "id": "44479c76-b625-44ac-8279-b558d0dc4974",
   "metadata": {},
   "outputs": [
    {
     "data": {
      "text/plain": [
       "3342205.652069378"
      ]
     },
     "execution_count": 132,
     "metadata": {},
     "output_type": "execute_result"
    }
   ],
   "source": [
    "mean_squared_error(y_test_inverted, etr_pred_test_inverted)"
   ]
  },
  {
   "cell_type": "code",
   "execution_count": 143,
   "id": "fec9f59b-d6e3-4d63-9c26-b80ac3e08ded",
   "metadata": {},
   "outputs": [
    {
     "data": {
      "text/plain": [
       "-1.8873290718529963"
      ]
     },
     "execution_count": 143,
     "metadata": {},
     "output_type": "execute_result"
    }
   ],
   "source": [
    "X_train.min()"
   ]
  },
  {
   "cell_type": "code",
   "execution_count": 144,
   "id": "1ad92fcc-90a5-4b25-9d13-ede4c9232590",
   "metadata": {},
   "outputs": [
    {
     "data": {
      "text/plain": [
       "-0.00011529842720725547"
      ]
     },
     "execution_count": 144,
     "metadata": {},
     "output_type": "execute_result"
    }
   ],
   "source": [
    "r2_score(y_test, etr_pred_test)"
   ]
  },
  {
   "cell_type": "code",
   "execution_count": 145,
   "id": "2da82b36-e0ce-4c43-945b-4b03798aca69",
   "metadata": {},
   "outputs": [
    {
     "data": {
      "text/plain": [
       "9.972239297772987"
      ]
     },
     "execution_count": 145,
     "metadata": {},
     "output_type": "execute_result"
    }
   ],
   "source": [
    "mean_absolute_error(y_test, etr_pred_test)"
   ]
  },
  {
   "cell_type": "code",
   "execution_count": null,
   "id": "7cc40ceb-dae5-4ca9-bfba-659532395fe8",
   "metadata": {},
   "outputs": [],
   "source": []
  },
  {
   "cell_type": "code",
   "execution_count": null,
   "id": "898b0aaa-e509-4a7a-b500-c86bfcf185a6",
   "metadata": {},
   "outputs": [],
   "source": []
  },
  {
   "cell_type": "code",
   "execution_count": null,
   "id": "dd52c059-63d8-4cab-96aa-e50db7dfbbb2",
   "metadata": {},
   "outputs": [],
   "source": []
  },
  {
   "cell_type": "code",
   "execution_count": 98,
   "id": "8800eff7-abba-4115-a676-9fae2694cee3",
   "metadata": {},
   "outputs": [
    {
     "data": {
      "text/plain": [
       "1308559.0435816566"
      ]
     },
     "execution_count": 98,
     "metadata": {},
     "output_type": "execute_result"
    }
   ],
   "source": [
    "mean_squared_error(y_test_inverted, xgbr_pred_test_inverted)"
   ]
  },
  {
   "cell_type": "markdown",
   "id": "fd06105a-7ce1-4050-816b-ba38f9de2923",
   "metadata": {},
   "source": [
    "Trying out the default Lightbgm for comparison"
   ]
  },
  {
   "cell_type": "code",
   "execution_count": 153,
   "id": "7302e30f-f44c-47da-9664-de32948c86f0",
   "metadata": {},
   "outputs": [],
   "source": [
    "lgbm_model = LGBMRegressor()\n",
    "lgbm_model = model.fit(X_train, y_train)"
   ]
  },
  {
   "cell_type": "code",
   "execution_count": 156,
   "id": "f0c983df-410a-48f0-86a8-43e4079ffb98",
   "metadata": {},
   "outputs": [],
   "source": [
    "lgbm_pred_test = lgbm_model.predict(X_test)\n",
    "lgbm_pred_test_inverted = inv_boxcox(lgbm_pred_test, y_lam)"
   ]
  },
  {
   "cell_type": "code",
   "execution_count": 157,
   "id": "c140543f-8b55-4a71-8235-84f570c3d84c",
   "metadata": {},
   "outputs": [
    {
     "data": {
      "text/plain": [
       "1435283.680420221"
      ]
     },
     "execution_count": 157,
     "metadata": {},
     "output_type": "execute_result"
    }
   ],
   "source": [
    "mean_squared_error(y_test_inverted, lgbm_pred_test_inverted)"
   ]
  },
  {
   "cell_type": "code",
   "execution_count": null,
   "id": "c45eb82f-7e85-4a88-8655-f4e6ad262a5b",
   "metadata": {},
   "outputs": [],
   "source": []
  },
  {
   "cell_type": "code",
   "execution_count": null,
   "id": "4ecc18c4-bbe5-4d43-8ba9-08342a9a1dd8",
   "metadata": {},
   "outputs": [],
   "source": []
  },
  {
   "cell_type": "code",
   "execution_count": null,
   "id": "1d258b15-508e-4caf-9ab5-4cdc03ff15c2",
   "metadata": {},
   "outputs": [],
   "source": []
  },
  {
   "cell_type": "code",
   "execution_count": null,
   "id": "f77b09df-3a4b-4c99-8c9d-8491adcb03b4",
   "metadata": {},
   "outputs": [],
   "source": []
  },
  {
   "cell_type": "code",
   "execution_count": null,
   "id": "9d5feafb-1d3a-4f9c-bbfe-44e0f6729047",
   "metadata": {},
   "outputs": [],
   "source": []
  },
  {
   "cell_type": "code",
   "execution_count": null,
   "id": "1f341f2e-0f6c-49f2-8a75-9ff424cd763e",
   "metadata": {},
   "outputs": [],
   "source": []
  },
  {
   "cell_type": "markdown",
   "id": "69ac7692-9b49-4154-b61b-6b8b7744aadf",
   "metadata": {},
   "source": [
    "Randomized search on light bgm"
   ]
  },
  {
   "cell_type": "code",
   "execution_count": 160,
   "id": "7b0e5ce9-c4bd-41ec-a379-b88bdf0fdd96",
   "metadata": {},
   "outputs": [],
   "source": [
    "from scipy.stats import uniform, randint\n",
    "params_lgbm = {\n",
    "    \"gamma\": uniform(0, 0.5),\n",
    "    \"learning_rate\": uniform(0.03, 0.3), # default 0.1 \n",
    "    \"max_depth\": randint(2, 6), # default 3\n",
    "    \"n_estimators\": randint(100, 150), # default 100\n",
    "    \"subsample\": uniform(0.6, 0.4)\n",
    "}"
   ]
  },
  {
   "cell_type": "code",
   "execution_count": 161,
   "id": "dd0d0253-fe4c-4f74-b769-e7f2a362ec99",
   "metadata": {},
   "outputs": [],
   "source": [
    "lgbm_cv = RandomizedSearchCV(LGBMRegressor(),\n",
    "                              param_distributions = params_lgbm,\n",
    "                              n_jobs = -1)"
   ]
  },
  {
   "cell_type": "code",
   "execution_count": 371,
   "id": "bab983fd-51eb-419f-a144-c18cdcb53597",
   "metadata": {},
   "outputs": [
    {
     "data": {
      "text/plain": [
       "{'gamma': <scipy.stats._distn_infrastructure.rv_frozen at 0x7f04b09c7160>,\n",
       " 'learning_rate': <scipy.stats._distn_infrastructure.rv_frozen at 0x7f04b0a12df0>,\n",
       " 'max_depth': <scipy.stats._distn_infrastructure.rv_frozen at 0x7f04b0a2a7f0>,\n",
       " 'n_estimators': <scipy.stats._distn_infrastructure.rv_frozen at 0x7f04b0a0fa90>,\n",
       " 'subsample': <scipy.stats._distn_infrastructure.rv_frozen at 0x7f04b0988520>}"
      ]
     },
     "execution_count": 371,
     "metadata": {},
     "output_type": "execute_result"
    }
   ],
   "source": [
    "params_lgbm"
   ]
  },
  {
   "cell_type": "code",
   "execution_count": 374,
   "id": "1fb32039-8161-4158-8ddf-758636d11aa4",
   "metadata": {},
   "outputs": [
    {
     "data": {
      "text/plain": [
       "3.5"
      ]
     },
     "execution_count": 374,
     "metadata": {},
     "output_type": "execute_result"
    }
   ],
   "source": [
    "randint(2,6)."
   ]
  },
  {
   "cell_type": "code",
   "execution_count": 162,
   "id": "50f9843c-0df7-424f-add2-ed6ee331d04e",
   "metadata": {},
   "outputs": [
    {
     "name": "stdout",
     "output_type": "stream",
     "text": [
      "[LightGBM] [Warning] Unknown parameter: gamma\n"
     ]
    }
   ],
   "source": [
    "lgbm_model = lgbm_cv.fit(X_train, y_train)\n",
    "lgbm_pred_test = lgbm_cv.predict(X_test)\n",
    "lgbm_pred_test_inverted = inv_boxcox(lgbm_pred_test, y_lam)"
   ]
  },
  {
   "cell_type": "code",
   "execution_count": 163,
   "id": "67acd27a-1a46-4713-80e4-40759a3691e5",
   "metadata": {},
   "outputs": [
    {
     "data": {
      "text/plain": [
       "0.5933431169092995"
      ]
     },
     "execution_count": 163,
     "metadata": {},
     "output_type": "execute_result"
    }
   ],
   "source": [
    "r2_score(y_test_inverted, lgbm_pred_test_inverted)"
   ]
  },
  {
   "cell_type": "code",
   "execution_count": 376,
   "id": "3e9a98ce-c7d5-47a7-a540-9caec933447a",
   "metadata": {
    "collapsed": true,
    "jupyter": {
     "outputs_hidden": true
    },
    "tags": []
   },
   "outputs": [
    {
     "data": {
      "text/plain": [
       "46.284980415622236"
      ]
     },
     "execution_count": 376,
     "metadata": {},
     "output_type": "execute_result"
    },
    {
     "name": "stdout",
     "output_type": "stream",
     "text": [
      "[LightGBM] [Warning] Unknown parameter: gamma\n",
      "[LightGBM] [Warning] Unknown parameter: gamma\n",
      "[LightGBM] [Warning] Unknown parameter: gamma\n",
      "[LightGBM] [Warning] Unknown parameter: gamma\n",
      "[LightGBM] [Warning] Unknown parameter: gamma\n",
      "[LightGBM] [Warning] Unknown parameter: gamma\n",
      "[LightGBM] [Warning] Unknown parameter: gamma\n",
      "[LightGBM] [Warning] Unknown parameter: gamma\n",
      "[LightGBM] [Warning] Unknown parameter: gamma\n",
      "[LightGBM] [Warning] Unknown parameter: gamma\n",
      "[LightGBM] [Warning] Unknown parameter: gamma\n",
      "[LightGBM] [Warning] Unknown parameter: gamma\n",
      "[LightGBM] [Warning] Unknown parameter: gamma\n",
      "[LightGBM] [Warning] Unknown parameter: gamma\n",
      "[LightGBM] [Warning] Unknown parameter: gamma\n",
      "[LightGBM] [Warning] Unknown parameter: gamma\n",
      "[LightGBM] [Warning] Unknown parameter: gamma\n",
      "[LightGBM] [Warning] Unknown parameter: gamma\n",
      "[LightGBM] [Warning] Unknown parameter: gamma\n",
      "[LightGBM] [Warning] Unknown parameter: gamma\n",
      "[LightGBM] [Warning] Unknown parameter: gamma\n",
      "[LightGBM] [Warning] Unknown parameter: gamma\n",
      "[LightGBM] [Warning] Unknown parameter: gamma\n",
      "[LightGBM] [Warning] Unknown parameter: gamma\n",
      "[LightGBM] [Warning] Unknown parameter: gamma\n",
      "[LightGBM] [Warning] Unknown parameter: gamma\n",
      "[LightGBM] [Warning] Unknown parameter: gamma\n",
      "[LightGBM] [Warning] Unknown parameter: gamma\n",
      "[LightGBM] [Warning] Unknown parameter: gamma\n",
      "[LightGBM] [Warning] Unknown parameter: gamma\n",
      "[LightGBM] [Warning] Unknown parameter: gamma\n",
      "[LightGBM] [Warning] Unknown parameter: gamma\n",
      "[LightGBM] [Warning] Unknown parameter: gamma\n",
      "[LightGBM] [Warning] Unknown parameter: gamma\n",
      "[LightGBM] [Warning] Unknown parameter: gamma\n",
      "[LightGBM] [Warning] Unknown parameter: gamma\n",
      "[LightGBM] [Warning] Unknown parameter: gamma\n",
      "[LightGBM] [Warning] Unknown parameter: gamma\n",
      "[LightGBM] [Warning] Unknown parameter: gamma\n",
      "[LightGBM] [Warning] Unknown parameter: gamma\n",
      "[LightGBM] [Warning] Unknown parameter: gamma\n",
      "[LightGBM] [Warning] Unknown parameter: gamma\n",
      "[LightGBM] [Warning] Unknown parameter: gamma\n",
      "[LightGBM] [Warning] Unknown parameter: gamma\n",
      "[LightGBM] [Warning] Unknown parameter: gamma\n",
      "[LightGBM] [Warning] Unknown parameter: gamma\n",
      "[LightGBM] [Warning] Unknown parameter: gamma\n",
      "[LightGBM] [Warning] Unknown parameter: gamma\n",
      "[LightGBM] [Warning] Unknown parameter: gamma\n",
      "[LightGBM] [Warning] Unknown parameter: gamma\n"
     ]
    }
   ],
   "source": [
    "mean_squared_error(y_test,lgbm_pred_test)"
   ]
  },
  {
   "cell_type": "code",
   "execution_count": 164,
   "id": "68e4742e-bee1-4ff5-b622-3b9cf29b6d60",
   "metadata": {},
   "outputs": [
    {
     "data": {
      "text/plain": [
       "0.5792154518232244"
      ]
     },
     "execution_count": 164,
     "metadata": {},
     "output_type": "execute_result"
    }
   ],
   "source": [
    "r2_score(y_test_inverted, xgbr_pred_test_inverted)"
   ]
  },
  {
   "cell_type": "code",
   "execution_count": 165,
   "id": "da2ada2e-35b7-4b9a-9ca0-83edff878a49",
   "metadata": {},
   "outputs": [
    {
     "data": {
      "text/plain": [
       "772.3321384756067"
      ]
     },
     "execution_count": 165,
     "metadata": {},
     "output_type": "execute_result"
    },
    {
     "name": "stdout",
     "output_type": "stream",
     "text": [
      "[LightGBM] [Warning] Unknown parameter: gamma\n",
      "[LightGBM] [Warning] Unknown parameter: gamma\n",
      "[LightGBM] [Warning] Unknown parameter: gamma\n",
      "[LightGBM] [Warning] Unknown parameter: gamma\n",
      "[LightGBM] [Warning] Unknown parameter: gamma\n",
      "[LightGBM] [Warning] Unknown parameter: gamma\n",
      "[LightGBM] [Warning] Unknown parameter: gamma\n",
      "[LightGBM] [Warning] Unknown parameter: gamma\n",
      "[LightGBM] [Warning] Unknown parameter: gamma\n",
      "[LightGBM] [Warning] Unknown parameter: gamma\n",
      "[LightGBM] [Warning] Unknown parameter: gamma\n",
      "[LightGBM] [Warning] Unknown parameter: gamma\n",
      "[LightGBM] [Warning] Unknown parameter: gamma\n",
      "[LightGBM] [Warning] Unknown parameter: gamma\n",
      "[LightGBM] [Warning] Unknown parameter: gamma\n",
      "[LightGBM] [Warning] Unknown parameter: gamma\n",
      "[LightGBM] [Warning] Unknown parameter: gamma\n",
      "[LightGBM] [Warning] Unknown parameter: gamma\n",
      "[LightGBM] [Warning] Unknown parameter: gamma\n",
      "[LightGBM] [Warning] Unknown parameter: gamma\n",
      "[LightGBM] [Warning] Unknown parameter: gamma\n",
      "[LightGBM] [Warning] Unknown parameter: gamma\n",
      "[LightGBM] [Warning] Unknown parameter: gamma\n",
      "[LightGBM] [Warning] Unknown parameter: gamma\n",
      "[LightGBM] [Warning] Unknown parameter: gamma\n",
      "[LightGBM] [Warning] Unknown parameter: gamma\n",
      "[LightGBM] [Warning] Unknown parameter: gamma\n",
      "[LightGBM] [Warning] Unknown parameter: gamma\n",
      "[LightGBM] [Warning] Unknown parameter: gamma\n",
      "[LightGBM] [Warning] Unknown parameter: gamma\n",
      "[LightGBM] [Warning] Unknown parameter: gamma\n",
      "[LightGBM] [Warning] Unknown parameter: gamma\n",
      "[LightGBM] [Warning] Unknown parameter: gamma\n",
      "[LightGBM] [Warning] Unknown parameter: gamma\n",
      "[LightGBM] [Warning] Unknown parameter: gamma\n",
      "[LightGBM] [Warning] Unknown parameter: gamma\n",
      "[LightGBM] [Warning] Unknown parameter: gamma\n",
      "[LightGBM] [Warning] Unknown parameter: gamma\n",
      "[LightGBM] [Warning] Unknown parameter: gamma\n",
      "[LightGBM] [Warning] Unknown parameter: gamma\n",
      "[LightGBM] [Warning] Unknown parameter: gamma\n",
      "[LightGBM] [Warning] Unknown parameter: gamma\n",
      "[LightGBM] [Warning] Unknown parameter: gamma\n",
      "[LightGBM] [Warning] Unknown parameter: gamma\n",
      "[LightGBM] [Warning] Unknown parameter: gamma\n",
      "[LightGBM] [Warning] Unknown parameter: gamma\n",
      "[LightGBM] [Warning] Unknown parameter: gamma\n",
      "[LightGBM] [Warning] Unknown parameter: gamma\n",
      "[LightGBM] [Warning] Unknown parameter: gamma\n",
      "[LightGBM] [Warning] Unknown parameter: gamma\n"
     ]
    }
   ],
   "source": [
    "mean_absolute_error(y_test_inverted, lgbm_pred_test_inverted)"
   ]
  },
  {
   "cell_type": "code",
   "execution_count": 167,
   "id": "fef5ccde-f333-47d8-a710-a010474c94d9",
   "metadata": {},
   "outputs": [
    {
     "data": {
      "text/plain": [
       "27.790864298823216"
      ]
     },
     "execution_count": 167,
     "metadata": {},
     "output_type": "execute_result"
    }
   ],
   "source": [
    "np.sqrt(mean_absolute_error(y_test_inverted, lgbm_pred_test_inverted))\n"
   ]
  },
  {
   "cell_type": "code",
   "execution_count": 171,
   "id": "71cb7d33-16c6-4a99-860b-cb74a5d3a378",
   "metadata": {},
   "outputs": [],
   "source": [
    "lgbm_pred_train = lgbm_model.predict(X_train)\n",
    "lgbm_pred_train_inverted = inv_boxcox(lgbm_pred_train, y_lam)"
   ]
  },
  {
   "cell_type": "code",
   "execution_count": null,
   "id": "8d45c2c5-3c1a-4eec-a1ea-a6f95409b8fa",
   "metadata": {},
   "outputs": [],
   "source": []
  },
  {
   "cell_type": "code",
   "execution_count": null,
   "id": "6ae5eb80-8dad-4062-bc85-c9fb578cbde8",
   "metadata": {},
   "outputs": [],
   "source": []
  },
  {
   "cell_type": "code",
   "execution_count": null,
   "id": "7ca136f4-79aa-4c1e-bfbe-64fe7819669e",
   "metadata": {},
   "outputs": [],
   "source": []
  },
  {
   "cell_type": "code",
   "execution_count": null,
   "id": "6d348331-93dc-432b-81b0-0168d4fbf1f5",
   "metadata": {},
   "outputs": [],
   "source": []
  },
  {
   "cell_type": "code",
   "execution_count": null,
   "id": "a6a238dd-639d-4cfb-bfdd-9d57bcac1831",
   "metadata": {},
   "outputs": [],
   "source": []
  },
  {
   "cell_type": "code",
   "execution_count": null,
   "id": "84cba1f9-de6e-4136-bda4-9a4de101cfaa",
   "metadata": {},
   "outputs": [],
   "source": []
  },
  {
   "cell_type": "code",
   "execution_count": null,
   "id": "19d5ab71-b371-4ec8-9f10-ce56e7c8b8dc",
   "metadata": {},
   "outputs": [],
   "source": []
  },
  {
   "cell_type": "markdown",
   "id": "d36f5f6d-70f1-4c04-aca0-e90c9067fdb6",
   "metadata": {},
   "source": [
    "Let's get this straight"
   ]
  },
  {
   "cell_type": "markdown",
   "id": "d8fd08bc-9676-4c69-b795-70f77d3b1dc7",
   "metadata": {},
   "source": [
    "For XGBoost:"
   ]
  },
  {
   "cell_type": "code",
   "execution_count": 168,
   "id": "bc5173e6-3b9c-4d07-8de2-d6833619eafe",
   "metadata": {},
   "outputs": [
    {
     "data": {
      "text/plain": [
       "0.5792154518232244"
      ]
     },
     "execution_count": 168,
     "metadata": {},
     "output_type": "execute_result"
    }
   ],
   "source": [
    "r2_score(y_test_inverted, xgbr_pred_test_inverted)"
   ]
  },
  {
   "cell_type": "code",
   "execution_count": 170,
   "id": "7bd28b3c-6f9a-413f-8bb4-3a0c091ccbb7",
   "metadata": {},
   "outputs": [
    {
     "data": {
      "text/plain": [
       "0.6826603760231873"
      ]
     },
     "execution_count": 170,
     "metadata": {},
     "output_type": "execute_result"
    }
   ],
   "source": [
    "r2_score(y_train_inverted, xgbr_pred_train_inverted)"
   ]
  },
  {
   "cell_type": "markdown",
   "id": "6ccc008d-6537-4178-bca8-e8118a878b6c",
   "metadata": {},
   "source": [
    "For Light BGM:"
   ]
  },
  {
   "cell_type": "code",
   "execution_count": 169,
   "id": "5c5f69ae-3e82-4147-8907-9bfbfa554dd6",
   "metadata": {},
   "outputs": [
    {
     "data": {
      "text/plain": [
       "0.5933431169092995"
      ]
     },
     "execution_count": 169,
     "metadata": {},
     "output_type": "execute_result"
    }
   ],
   "source": [
    "r2_score(y_test_inverted, lgbm_pred_test_inverted)"
   ]
  },
  {
   "cell_type": "code",
   "execution_count": 172,
   "id": "adc0823b-3a9e-4470-96ec-9f8e7d75317e",
   "metadata": {},
   "outputs": [
    {
     "data": {
      "text/plain": [
       "0.6116123190019196"
      ]
     },
     "execution_count": 172,
     "metadata": {},
     "output_type": "execute_result"
    }
   ],
   "source": [
    "r2_score(y_train_inverted, lgbm_pred_train_inverted)"
   ]
  },
  {
   "cell_type": "code",
   "execution_count": null,
   "id": "15461581-ba6c-4ee8-9443-5be351da572a",
   "metadata": {},
   "outputs": [],
   "source": []
  },
  {
   "cell_type": "markdown",
   "id": "7c404873-c889-4e35-8222-ec2125200c7e",
   "metadata": {},
   "source": [
    "### I'm leaving this project for now. I'll get back to it later."
   ]
  },
  {
   "cell_type": "code",
   "execution_count": null,
   "id": "cad37707-ea66-42b2-af89-ae81717e52d7",
   "metadata": {},
   "outputs": [],
   "source": []
  }
 ],
 "metadata": {
  "kernelspec": {
   "display_name": "Python 3 (ipykernel)",
   "language": "python",
   "name": "python3"
  },
  "language_info": {
   "codemirror_mode": {
    "name": "ipython",
    "version": 3
   },
   "file_extension": ".py",
   "mimetype": "text/x-python",
   "name": "python",
   "nbconvert_exporter": "python",
   "pygments_lexer": "ipython3",
   "version": "3.9.12"
  }
 },
 "nbformat": 4,
 "nbformat_minor": 5
}
